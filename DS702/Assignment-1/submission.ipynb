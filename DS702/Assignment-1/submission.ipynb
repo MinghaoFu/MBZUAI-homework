{
 "cells": [
  {
   "cell_type": "code",
   "execution_count": 2,
   "metadata": {},
   "outputs": [
    {
     "name": "stderr",
     "output_type": "stream",
     "text": [
      "[nltk_data] Downloading package punkt to /home/minghao.fu/nltk_data...\n",
      "[nltk_data]   Package punkt is already up-to-date!\n"
     ]
    },
    {
     "name": "stdout",
     "output_type": "stream",
     "text": [
      "Top-10 2-word sequences:\n",
      ", and: 1392\n",
      "” “: 1365\n",
      ". “: 972\n",
      "of the: 732\n",
      ". I: 526\n",
      "? ”: 514\n",
      "in the: 496\n",
      ", ”: 477\n",
      "“ I: 355\n",
      "’ s: 351\n",
      "\n",
      "\n",
      "Top-10 4-word sequences:\n",
      ", ” said Holmes: 99\n",
      ", ” said he: 84\n",
      "? ” “ I: 61\n",
      "? ’ “ ‘: 49\n",
      "” said he .: 47\n",
      "” said Holmes ,: 47\n",
      "said he . “: 45\n",
      "” “ Oh ,: 44\n",
      "” “ Yes ,: 44\n",
      ", Mr. Holmes ,: 42\n",
      "\n",
      "\n",
      "Top-10 5-word sequences:\n",
      "” said he . “: 43\n",
      ", ” said Holmes ,: 43\n",
      ", ” said he .: 38\n",
      ", ” said he ,: 33\n",
      "? ” “ Yes ,: 30\n",
      ", ” said Holmes .: 28\n",
      "” said Holmes . “: 28\n",
      ", then ? ” “: 23\n",
      "” said he , “: 22\n",
      ", ’ said he ,: 21\n",
      "\n",
      "\n",
      "Most occurring name: Holmes with 454 occurrences\n"
     ]
    }
   ],
   "source": [
    "import nltk\n",
    "from nltk import ngrams\n",
    "from nltk.tokenize import word_tokenize\n",
    "from collections import Counter\n",
    "\n",
    "nltk.download('punkt')\n",
    "\n",
    "def count_ngrams(text, n):\n",
    "    tokens = word_tokenize(text)\n",
    "    \n",
    "    n_grams = ngrams(tokens, n)\n",
    "    \n",
    "    return Counter(n_grams)\n",
    "\n",
    "def find_most_common_names(counter, names):\n",
    "    name_counts = {name: sum(count for gram, count in counter.items() if name in gram) for name in names}\n",
    "    return name_counts\n",
    "\n",
    "with open('./Arthur.txt', 'r', encoding='utf-8') as f:\n",
    "    text = f.read()\n",
    "\n",
    "# Count n-grams and find top-10 for n=2, 4, 5\n",
    "for n in [2, 4, 5]:\n",
    "    counter = count_ngrams(text, n)\n",
    "    print(f\"Top-10 {n}-word sequences:\")\n",
    "    for sequence, count in counter.most_common(10):\n",
    "        print(f\"{' '.join(sequence)}: {count}\")\n",
    "    print(\"\\n\")\n",
    "\n",
    "# Find the most occurring name between Holmes and Watson\n",
    "names = ['Holmes', 'Watson']\n",
    "name_counter = count_ngrams(text, 1)\n",
    "name_counts = find_most_common_names(name_counter, names)\n",
    "most_occurring_name = max(name_counts, key=name_counts.get)\n",
    "print(f\"Most occurring name: {most_occurring_name} with {name_counts[most_occurring_name]} occurrences\")\n"
   ]
  },
  {
   "cell_type": "markdown",
   "metadata": {},
   "source": [
    "### Answer\n",
    "Yes, I can find the most occurring/repeated name of the person.\n",
    "It is **Holmes**"
   ]
  }
 ],
 "metadata": {
  "kernelspec": {
   "display_name": "Python 3",
   "language": "python",
   "name": "python3"
  },
  "language_info": {
   "codemirror_mode": {
    "name": "ipython",
    "version": 3
   },
   "file_extension": ".py",
   "mimetype": "text/x-python",
   "name": "python",
   "nbconvert_exporter": "python",
   "pygments_lexer": "ipython3",
   "version": "3.11.7"
  }
 },
 "nbformat": 4,
 "nbformat_minor": 2
}
