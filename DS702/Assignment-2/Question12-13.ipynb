{
  "cells": [
    {
      "cell_type": "code",
      "execution_count": 4,
      "metadata": {
        "id": "lAmra3o2isgl"
      },
      "outputs": [],
      "source": [
        "# Question 12\n",
        "from pyspark.sql import SparkSession\n",
        "\n",
        "# Initialize a SparkSession\n",
        "spark = SparkSession.builder \\\n",
        "    .appName(\"Distance Measures\") \\\n",
        "    .getOrCreate()\n",
        "\n",
        "sc = spark.sparkContext"
      ]
    },
    {
      "cell_type": "code",
      "execution_count": 6,
      "metadata": {
        "colab": {
          "base_uri": "https://localhost:8080/"
        },
        "id": "DFrQhuCgi0_K",
        "outputId": "3148d31e-f26d-42dd-d334-b19d2a7ec295"
      },
      "outputs": [
        {
          "name": "stdout",
          "output_type": "stream",
          "text": [
            "Jaccard Distance: 0.8\n"
          ]
        }
      ],
      "source": [
        "def jaccard_distance(rdd1, rdd2):\n",
        "    union = rdd1.union(rdd2).distinct().count()\n",
        "    intersection = rdd1.intersection(rdd2).count()\n",
        "    return 1 - intersection / union\n",
        "\n",
        "# Example usage with RDDs\n",
        "rdd1 = sc.parallelize([(0, 1), (1, 1), (2, 0)])  # Represents set {0, 1}\n",
        "rdd2 = sc.parallelize([(0, 1), (1, 0), (2, 1)])  # Represents set {0, 2}\n",
        "\n",
        "print(\"Jaccard Distance:\", jaccard_distance(rdd1, rdd2))\n"
      ]
    },
    {
      "cell_type": "code",
      "execution_count": 7,
      "metadata": {
        "colab": {
          "base_uri": "https://localhost:8080/"
        },
        "id": "NaktHFV_jiTR",
        "outputId": "76b640e0-d96d-4ba4-aa49-678923206123"
      },
      "outputs": [
        {
          "name": "stdout",
          "output_type": "stream",
          "text": [
            "Cosine Distance: 0.5000000000000001\n"
          ]
        }
      ],
      "source": [
        "from math import sqrt\n",
        "\n",
        "def cosine_distance(rdd1, rdd2):\n",
        "    dot_product = rdd1.join(rdd2).map(lambda x: x[1][0] * x[1][1]).sum()\n",
        "    norm1 = sqrt(rdd1.map(lambda x: x[1]**2).sum())\n",
        "    norm2 = sqrt(rdd2.map(lambda x: x[1]**2).sum())\n",
        "    return 1 - dot_product / (norm1 * norm2)\n",
        "\n",
        "# Example usage\n",
        "print(\"Cosine Distance:\", cosine_distance(rdd1, rdd2))\n"
      ]
    },
    {
      "cell_type": "code",
      "execution_count": 8,
      "metadata": {
        "colab": {
          "base_uri": "https://localhost:8080/"
        },
        "id": "I-B-SjPRjkHq",
        "outputId": "92e582f1-5ba1-47ab-d3a2-965f063c65d7"
      },
      "outputs": [
        {
          "name": "stdout",
          "output_type": "stream",
          "text": [
            "Hamming Distance: 2\n"
          ]
        }
      ],
      "source": [
        "def hamming_distance(rdd1, rdd2):\n",
        "    # Assume rdd1 and rdd2 are of the same length\n",
        "    return rdd1.zip(rdd2).filter(lambda x: x[0] != x[1]).count()\n",
        "\n",
        "# Example usage with RDDs\n",
        "rdd1 = sc.parallelize([0, 1, 0])  # Represents the vector [0, 1, 0]\n",
        "rdd2 = sc.parallelize([0, 0, 1])  # Represents the vector [0, 0, 1]\n",
        "\n",
        "print(\"Hamming Distance:\", hamming_distance(rdd1, rdd2))\n"
      ]
    },
    {
      "cell_type": "code",
      "execution_count": 12,
      "metadata": {
        "id": "w3ds9SBujlcS"
      },
      "outputs": [
        {
          "name": "stdout",
          "output_type": "stream",
          "text": [
            "threshold = 0.5: ['user2']\n",
            "threshold = 0.9: []\n"
          ]
        }
      ],
      "source": [
        "# Question 13\n",
        "def read_file(file_name):\n",
        "    with open(file_name, 'r') as file:\n",
        "        return file.read()\n",
        "\n",
        "# Assuming the files are named accordingly and located in the current working directory\n",
        "movies_txt = read_file('movies.txt')\n",
        "preferences_txt = read_file('preferences.txt')\n",
        "watchedmovies_txt = read_file('watchedmovies.txt')\n",
        "\n",
        "# The rest of the code would remain the same, parsing these variables and processing the data\n",
        "# Convert the string data into usable Python structures\n",
        "def parse_data(movies, preferences, watched_movies):\n",
        "    movie_genres = {line.split(',')[0]: line.split(',')[2] for line in movies.strip().split('\\n')}\n",
        "    user_preferences = {}\n",
        "    for line in preferences.strip().split('\\n'):\n",
        "        user, genre = line.split(',')\n",
        "        if user not in user_preferences:\n",
        "            user_preferences[user] = set()\n",
        "        user_preferences[user].add(genre)\n",
        "    \n",
        "    user_watched = {}\n",
        "    for line in watched_movies.strip().split('\\n'):\n",
        "        user, movie, _, _ = line.split(',')\n",
        "        if user not in user_watched:\n",
        "            user_watched[user] = []\n",
        "        user_watched[user].append(movie_genres[movie])\n",
        "    \n",
        "    return movie_genres, user_preferences, user_watched\n",
        "\n",
        "movie_genres, user_preferences, user_watched = parse_data(movies_txt, preferences_txt, watchedmovies_txt)\n",
        "\n",
        "# Determine misleading profiles\n",
        "def find_misleading_profiles(user_preferences, user_watched, threshold):\n",
        "    misleading_profiles = []\n",
        "    for user, watched_genres in user_watched.items():\n",
        "        if user in user_preferences:  # Check if the user has preferences\n",
        "            total_watched = len(watched_genres)\n",
        "            disliked_count = sum(1 for genre in watched_genres if genre not in user_preferences[user])\n",
        "            if (disliked_count / total_watched) > threshold:\n",
        "                misleading_profiles.append(user)\n",
        "    \n",
        "    return misleading_profiles\n",
        "\n",
        "# Example threshold of 0.5\n",
        "threshold = 0.5\n",
        "misleading_profiles = find_misleading_profiles(user_preferences, user_watched, threshold)\n",
        "\n",
        "print(f\"threshold = {threshold}: {misleading_profiles}\")\n",
        "\n",
        "# Example threshold of 0.9 \n",
        "threshold = 0.9\n",
        "misleading_profiles = find_misleading_profiles(user_preferences, user_watched, threshold)\n",
        "\n",
        "print(f\"threshold = {threshold}: {misleading_profiles}\")"
      ]
    },
    {
      "cell_type": "code",
      "execution_count": null,
      "metadata": {},
      "outputs": [],
      "source": []
    }
  ],
  "metadata": {
    "colab": {
      "provenance": []
    },
    "kernelspec": {
      "display_name": "Python 3",
      "name": "python3"
    },
    "language_info": {
      "codemirror_mode": {
        "name": "ipython",
        "version": 3
      },
      "file_extension": ".py",
      "mimetype": "text/x-python",
      "name": "python",
      "nbconvert_exporter": "python",
      "pygments_lexer": "ipython3",
      "version": "3.12.1"
    }
  },
  "nbformat": 4,
  "nbformat_minor": 0
}
