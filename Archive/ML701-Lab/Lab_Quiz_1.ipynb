{
  "cells": [
    {
      "cell_type": "markdown",
      "metadata": {
        "id": "3nKn24h9a45F"
      },
      "source": [
        "## Lab Quiz 1\n",
        "\n",
        "### Problem 1\n",
        "\n",
        "The goal of this exercise is examining how does the noise influence the ROC curves.\n",
        "\n",
        "In this problem we receive signals from four different cities: Dubai, Riyahd, Istanbul and New York. Each of the four cities sends a string of $0$'s and $1$'s of length $n$ i.e. \n",
        "$$\n",
        "Y_i \\in\\{0,1\\}^n,\n",
        "$$\n",
        "where $Y_1, Y_2, Y_3, Y_4$ denote signals from Dubai, Riyahd, Istanbul, and New York respectively.\n",
        "\n",
        "Due to the distance from the radio station in Abu Dhabi, where the messages are received, each radio signal $Y_i$ is corrupted by random noise $\\epsilon_i\\in\\mathbb{R}^n$. Thus, instead of the signal $Y_i$, Abu Dhabi radio station receives the corrupted message $X_i = Y_i + \\epsilon_i$. You are given that for all $i\\in\\{1, 2, 3, 4\\}$, each of the entries of $\\epsilon_i$ is a normal random variable $\\mathcal{N}\\left(0, \\sigma_i^2\\right)$ with $(\\sigma_1, \\sigma_2, \\sigma_3, \\sigma_4) = (1/10, 1, 3, 100)$. "
      ]
    },
    {
      "cell_type": "markdown",
      "metadata": {
        "id": "eMV-NAsYiS0A"
      },
      "source": [
        "Run the following code to generate signals $Y_i$ and the corresponding corrupted messages $X_i$. We shall store the values of $\\sigma_i$ in the array called sigmas. That is, sigmas $= [1/10, 1, 3, 100]$. **We will need this later.**"
      ]
    },
    {
      "cell_type": "code",
      "execution_count": 106,
      "metadata": {
        "id": "AD5Ma5OASltf"
      },
      "outputs": [],
      "source": [
        "import numpy as np\n",
        "import matplotlib.pyplot as plt\n",
        "\n",
        "n = 1000\n",
        "X = [0., 0., 0., 0.]\n",
        "Y = [0., 0., 0., 0.]\n",
        "sigmas = [1/10, 1, 3, 100]\n",
        "\n",
        "rng = np.random.RandomState(1234)\n",
        "\n",
        "for i in range(len(sigmas)):\n",
        "  Y[i] = rng.binomial(1, 1/2, n)\n",
        "  X[i] =  Y[i] + sigmas[i] * rng.standard_normal(n)\n"
      ]
    },
    {
      "cell_type": "markdown",
      "metadata": {
        "id": "_ECyBOYpmcrO"
      },
      "source": [
        "Given the message $X_i$, we want to classify each of its entries as $0$ or $1$. We know that if $Y_i[j]=0$, then $X_i[j]$ follows the density\n",
        "$$\n",
        "f_{i,0}(x) = \\frac{1}{\\sqrt{2\\pi\\sigma_i^2}}\\exp\\left(-\\frac{x^2}{2\\sigma_i^2}\\right).\n",
        "$$\n",
        "If $Y_i[j]=1$, then $X_i[j]$ follows the density\n",
        "$$\n",
        "f_{i,1}(x) = \\frac{1}{\\sqrt{2\\pi\\sigma_i^2}}\\exp\\left(-\\frac{(x-1)^2}{2\\sigma_i^2}\\right).\n",
        "$$"
      ]
    },
    {
      "cell_type": "markdown",
      "metadata": {
        "id": "ptP5KAU6slIi"
      },
      "source": [
        "---\n",
        "\n",
        "**Task 1 [0.5 point]:** Implement the function log_L which computes the log-likelihood \n",
        "\n",
        "\n",
        "\n",
        "$$\n",
        "\\log \\mathcal{L}_i(x) = \\log\\left(\\frac{f_{i, 1}(x)}{f_{i,0}(x)}\\right).\n",
        "$$\n",
        "\n",
        "It should accept two variables:\n",
        "\n",
        "\n",
        "*   $x$\n",
        "*   Index $i$,\n",
        "\n",
        "and return $\\log \\mathcal{L}_i(x)$.\n",
        "\n",
        "Recall that the value of $\\sigma_i$ can be accessed by calling sigmas[i].\n",
        "\n",
        "**Hint:** $$\\frac{f_{i, 1}(x)}{f_{i,0}(x)} = \\exp\\left(-\\frac{(x-1)^2}{2\\sigma_i^2}+\\frac{x^2}{2\\sigma_i^2}\\right)$$\n",
        "\n",
        "---"
      ]
    },
    {
      "cell_type": "code",
      "execution_count": 107,
      "metadata": {
        "id": "1moXySBFs-mm"
      },
      "outputs": [],
      "source": [
        "#YOUR ANSWER TO TASK 1\n",
        "\n",
        "def log_L(x, i):\n",
        "  # YOUR CODE HERE\n",
        "  var = sigmas[i] ** 2\n",
        "  return (x ** 2 - (x - 1) ** 2) / 2 * var"
      ]
    },
    {
      "attachments": {},
      "cell_type": "markdown",
      "metadata": {
        "id": "XscDxt8nTdEF"
      },
      "source": [
        "---\n",
        "\n",
        "**Task 2 [1 point]:** Implement the function calculating True Positive Rate of a given predictor. As an input it should take:\n",
        "\n",
        "\n",
        "*   Y_hat, the predictions given by the predictor\n",
        "*   Y, the actual labels\n",
        "\n",
        "The output should be $TPR\\left(\\hat{Y}\\right)$.\n",
        "\n",
        "---\n"
      ]
    },
    {
      "cell_type": "code",
      "execution_count": 108,
      "metadata": {
        "id": "246KGPjVUJRr"
      },
      "outputs": [],
      "source": [
        "#YOUR ANSWER TO TASK 2\n",
        "\n",
        "def tpr(y_hat, y):\n",
        "  #Step 1: Calculate the number of positives (i.e. the number of 1's in y)\n",
        "  total_positives = np.sum(y == 1)\n",
        "  \n",
        "  #Step 2: Calculate the number of true positives\n",
        "  true_positives = np.sum(y == 1 & y_hat == 1)\n",
        "\n",
        "  return true_positives / total_positives\n"
      ]
    },
    {
      "cell_type": "markdown",
      "metadata": {
        "id": "ftlCVXUjKKK-"
      },
      "source": [
        "Run the following code to generate the ROC curves for each of the cities."
      ]
    },
    {
      "cell_type": "code",
      "execution_count": 109,
      "metadata": {
        "colab": {
          "base_uri": "https://localhost:8080/",
          "height": 470
        },
        "id": "5IYLJiD0ArJi",
        "outputId": "0f9c6c8c-8e18-44c3-86ab-41929d9504ed"
      },
      "outputs": [
        {
          "data": {
            "text/plain": [
              "Text(0.5, 1.0, 'ROC curves')"
            ]
          },
          "execution_count": 109,
          "metadata": {},
          "output_type": "execute_result"
        },
        {
          "data": {
            "image/png": "[encoded data removed]",
            "text/plain": [
              "<Figure size 640x480 with 1 Axes>"
            ]
          },
          "metadata": {},
          "output_type": "display_data"
        }
      ],
      "source": [
        "from sklearn.metrics import roc_curve\n",
        "\n",
        "cities = ['Dubai', 'Riyahd', 'Istanbul', 'New York']\n",
        "for i in range(4):\n",
        "    x, y = X[i], Y[i]\n",
        "    scores = log_L(x, i)\n",
        "    fpr, tpr, _ = roc_curve(y, scores)\n",
        "    plt.plot(fpr, tpr, linewidth=5, label=cities[i])\n",
        "plt.legend(loc = 'lower right')\n",
        "plt.title('ROC curves')\n"
      ]
    },
    {
      "cell_type": "markdown",
      "metadata": {
        "id": "GNfTuDEGLWbl"
      },
      "source": [
        "\n",
        "**Task 3 [0.5 point]:** Provide a brief interpretation of the above ROC curves. How does their behavior depend on the noise level? Why?\n",
        "\n",
        "**Note:** This is not a coding problem. You can write your answer below.\n",
        "\n",
        "**Your Answer:** \n",
        "\n",
        "It is clear that with the noise level increasing, we can see the curve closer to the diagonal, implying that noise is making it difficult to distinguish between the positive and negative classes. \n",
        "\n",
        "The reason is that noise affects the true and false positive rates, making it more challenging to correctly classify samples as noise increases.\n"
      ]
    },
    {
      "cell_type": "markdown",
      "metadata": {},
      "source": [
        "### Problem 2\n",
        "\n",
        "In this part, we will implement the Perceptron algorithm with the data as generated below. "
      ]
    },
    {
      "cell_type": "code",
      "execution_count": 110,
      "metadata": {},
      "outputs": [
        {
          "data": {
            "text/plain": [
              "((100, 6), (100,))"
            ]
          },
          "execution_count": 110,
          "metadata": {},
          "output_type": "execute_result"
        }
      ],
      "source": [
        "rng = np.random.default_rng(12345)\n",
        "\n",
        "n = 100\n",
        "d = 5\n",
        "X = rng.standard_normal((n, d))\n",
        "Y = rng.binomial(1, 1/2, n)\n",
        "Y = 2 * Y - 1\n",
        "\n",
        "X = np.concatenate((X, Y.reshape(-1, 1)), axis=1)\n",
        "Q, _ = np.linalg.qr(rng.standard_normal((d + 1, d + 1)))\n",
        "X = X @ Q\n",
        "\n",
        "# Try to think why are this data separable?\n",
        "# QR factorization makes a rotation transformation on original data including data X and label Y, \n",
        "# which introduces dependence within such randomly generated data and labels.\n",
        "X.shape, Y.shape"
      ]
    },
    {
      "cell_type": "markdown",
      "metadata": {},
      "source": [
        "**Task 5 [1 point]:** Implement the class Perceptron by filling in the missing parts."
      ]
    },
    {
      "cell_type": "code",
      "execution_count": 111,
      "metadata": {},
      "outputs": [],
      "source": [
        "# Perceptron update rule\n",
        "def update(w, X, y, i):\n",
        "    x_i, y_i = X[i], y[i]\n",
        "    prediction = np.dot(w, x_i)\n",
        "    if (prediction >= 0 and y_i < 0) or (prediction < 0 and y_i >= 0):\n",
        "        w = w + y_i * x_i\n",
        "    return w\n",
        "\n",
        "# Empirical risk\n",
        "def empirical_risk(w, X, Y):\n",
        "    return np.mean(np.maximum(0, 1 - Y * (np.dot(X, w))))\n",
        "\n",
        "# Correct predictions\n",
        "def correct_predictions(w, X, Y):\n",
        "    return np.mean(Y * (np.dot(X, w)) >= 1)"
      ]
    },
    {
      "cell_type": "code",
      "execution_count": 112,
      "metadata": {},
      "outputs": [
        {
          "name": "stdout",
          "output_type": "stream",
          "text": [
            "Model is trained in 179 iterations.\n",
            "loss: 0.0\n"
          ]
        }
      ],
      "source": [
        "# Test the implementation\n",
        "random_seed = 123\n",
        "max_iter = 1000\n",
        "eps = 1e-8\n",
        "\n",
        "# Intialize the model\n",
        "w = np.zeros(X.shape[1])\n",
        "losses = []\n",
        "rng = np.random.default_rng(random_seed)\n",
        "\n",
        "for j in range(max_iter):\n",
        "    losses.append(empirical_risk(w, X, Y))\n",
        "    i = rng.integers(0, len(X))\n",
        "    w = update(w, X, Y, i)\n",
        "    if losses[-1] < eps:\n",
        "        losses.append(empirical_risk(w, X, Y))\n",
        "        break\n",
        "        \n",
        "assert losses[-1] < eps\n",
        "assert correct_predictions(w, X, Y) == 1\n",
        "\n",
        "print(f\"Model is trained in {j+1} iterations.\")\n",
        "print(f'loss: {losses[-1]}')"
      ]
    },
    {
      "cell_type": "markdown",
      "metadata": {},
      "source": [
        "**Task 6 [1 point]:** Compute the margin of the obtained solution, i.e., the closest distance from the separating hyperplane and point from the training data."
      ]
    },
    {
      "cell_type": "code",
      "execution_count": 113,
      "metadata": {},
      "outputs": [
        {
          "name": "stdout",
          "output_type": "stream",
          "text": [
            "Margin of the model is 1.0543733698770246\n"
          ]
        }
      ],
      "source": [
        "# Perceptron update rule\n",
        "def margin(w, X, Y):\n",
        "    # YOUR CODE HERE\n",
        "    margin = np.min(np.dot(X, w) * Y)\n",
        "    return margin\n",
        "\n",
        "print(f\"Margin of the model is {margin(w, X, Y)}\")"
      ]
    },
    {
      "cell_type": "markdown",
      "metadata": {},
      "source": [
        "**Task 7 [1 point]:** Provide the upper bound on the number of errors made by the Perceptron algorithm (recall Theorem 64, mistake bound)\n",
        "\\begin{align*}\n",
        "    \\text{number of mistakes} \\leq \\frac{ 2 + R^2}{\\gamma^2},\n",
        "\\end{align*}\n",
        "where $R$ is the radius of the smallest ball containing the data and $\\gamma$ is the margin of the solution, and compare it with actual number of errors made by the algorithm."
      ]
    },
    {
      "cell_type": "code",
      "execution_count": 114,
      "metadata": {},
      "outputs": [],
      "source": [
        "# Perceptron update rule with missclassified flag\n",
        "def update(w, X, y, i):\n",
        "    x_i, y_i = X[i], y[i]\n",
        "    # YOUR CODE HERE\n",
        "    x_i, y_i = X[i], y[i]\n",
        "    missclassified = False\n",
        "\n",
        "    dot_product = np.dot(w, x_i)\n",
        "\n",
        "    if np.sign(dot_product) != y_i:\n",
        "        w = w + y_i * x_i  \n",
        "        missclassified = True \n",
        "    \n",
        "    return w, missclassified"
      ]
    },
    {
      "cell_type": "code",
      "execution_count": 115,
      "metadata": {},
      "outputs": [
        {
          "name": "stdout",
          "output_type": "stream",
          "text": [
            "The Perceptron algorithm made 4 errors.\n",
            "The upper bound on the number of errors is 4.\n"
          ]
        }
      ],
      "source": [
        "# Test the implementation\n",
        "random_seed = 123\n",
        "max_iter = 1000\n",
        "eps = 1e-8\n",
        "\n",
        "# Intialize the model\n",
        "w = np.zeros(X.shape[1])\n",
        "losses = []\n",
        "rng = np.random.default_rng(random_seed)\n",
        "errors = 0\n",
        "\n",
        "for j in range(max_iter):\n",
        "    losses.append(empirical_risk(w, X, Y))\n",
        "    i = rng.integers(0, len(X))\n",
        "    w, missclassified = update(w, X, Y, i)\n",
        "    if missclassified:\n",
        "        errors += 1\n",
        "    if losses[-1] < eps:\n",
        "        losses.append(empirical_risk(w, X, Y))\n",
        "        break\n",
        "        \n",
        "assert losses[-1] < eps\n",
        "assert correct_predictions(w, X, Y) == 1\n",
        "\n",
        "# YOUR CODE HERE\n",
        "upper_bound = (2 + (np.max(np.linalg.norm(X, axis=1))) ** 2) / margin(w, X, Y) ** 2\n",
        "\n",
        "\n",
        "print(f\"The Perceptron algorithm made {errors} errors.\")\n",
        "print(f\"The upper bound on the number of errors is {upper_bound.astype(int)}.\")"
      ]
    },
    {
      "cell_type": "markdown",
      "metadata": {},
      "source": [
        "**Bonus [1 point]**: The margin of the above solution is relatively small. Given construction of the data, it is possible to find a solution with a larger margin. Can you find a solution with margin equal to 1? If so, implement it.\n",
        "\n",
        "**Comment:** Only attempt this if you have completed all the previous tasks. This is a bonus task, so you can skip it if you want."
      ]
    },
    {
      "cell_type": "code",
      "execution_count": 119,
      "metadata": {},
      "outputs": [
        {
          "name": "stdout",
          "output_type": "stream",
          "text": [
            "Margin of the model is 0.9999999999999999\n"
          ]
        }
      ],
      "source": [
        "# YOUR CODE HERE\n",
        "def adjust_weights_for_margin(w, X, Y):\n",
        "    current_margin = margin(w, X, Y)\n",
        "    scaling_factor = 1 / current_margin\n",
        "    new_w = w * scaling_factor\n",
        "    new_margin = np.min(np.dot(X, new_w) * Y)\n",
        "    \n",
        "    return new_w\n",
        "\n",
        "new_w = adjust_weights_for_margin(w, X, Y)\n",
        "\n",
        "print(f\"Margin of the model is {margin(new_w, X, Y)}\")"
      ]
    },
    {
      "cell_type": "code",
      "execution_count": null,
      "metadata": {},
      "outputs": [],
      "source": []
    }
  ],
  "metadata": {
    "colab": {
      "provenance": []
    },
    "kernelspec": {
      "display_name": "Python 3",
      "language": "python",
      "name": "python3"
    },
    "language_info": {
      "codemirror_mode": {
        "name": "ipython",
        "version": 3
      },
      "file_extension": ".py",
      "mimetype": "text/x-python",
      "name": "python",
      "nbconvert_exporter": "python",
      "pygments_lexer": "ipython3",
      "version": "3.11.4"
    }
  },
  "nbformat": 4,
  "nbformat_minor": 0
}
