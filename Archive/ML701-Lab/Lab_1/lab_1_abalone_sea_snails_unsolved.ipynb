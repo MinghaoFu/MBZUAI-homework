{
 "cells": [
  {
   "cell_type": "markdown",
   "metadata": {},
   "source": [
    "## Abalone sea snails (Example 4 in slides, with extended dataset)\n",
    "\n",
    "Consider a population of Abalone, a type of marine snail with colorful\n",
    "shells featuring a varying number of rings. Our goal is to predict the\n",
    "sex, male or female, of the Abalone from the number of rings on\n",
    "the shell."
   ]
  },
  {
   "cell_type": "code",
   "execution_count": 1,
   "metadata": {},
   "outputs": [],
   "source": [
    "# load data\n",
    "import pandas as pd\n",
    "import numpy as np\n",
    "\n",
    "data = pd.read_csv('./abalone.csv')"
   ]
  },
  {
   "cell_type": "markdown",
   "metadata": {},
   "source": [
    "### Data visualization"
   ]
  },
  {
   "cell_type": "code",
   "execution_count": 2,
   "metadata": {},
   "outputs": [
    {
     "data": {
      "image/png": "[encoded data removed]",
      "text/plain": [
       "<Figure size 640x480 with 1 Axes>"
      ]
     },
     "metadata": {},
     "output_type": "display_data"
    }
   ],
   "source": [
    "import matplotlib.pyplot as plt\n",
    "\n",
    "plt.hist([\n",
    "    data['Rings'][data['Sex']=='M'],\n",
    "    data['Rings'][data['Sex']=='F']\n",
    "    ], bins=np.arange(1,30),\n",
    "    label=['Male', 'Female'])\n",
    "plt.xlabel('# of rings')\n",
    "plt.ylabel('# of instances')\n",
    "plt.legend()\n",
    "plt.show()"
   ]
  },
  {
   "cell_type": "markdown",
   "metadata": {},
   "source": [
    "### Minimum Error Rule\n",
    "\n",
    "Write function that takes as an input number of rings and outputs `Female` or `Male` based on the minimum error rule. You can assume that number of rings is an integer between 1 and 29."
   ]
  },
  {
   "cell_type": "code",
   "execution_count": 3,
   "metadata": {},
   "outputs": [
    {
     "data": {
      "text/plain": [
       "2        9\n",
       "6       20\n",
       "7       16\n",
       "9       19\n",
       "10      14\n",
       "        ..\n",
       "4160    11\n",
       "4161    11\n",
       "4168     8\n",
       "4172    11\n",
       "4175    10\n",
       "Name: Rings, Length: 1307, dtype: int64"
      ]
     },
     "execution_count": 3,
     "metadata": {},
     "output_type": "execute_result"
    }
   ],
   "source": [
    "# data preprocessing\n",
    "number_of_rings_males = data['Rings'][data['Sex']=='M']\n",
    "number_of_rings_females = data['Rings'][data['Sex']=='F']\n",
    "\n",
    "# Solution\n",
    "# write your code here\n",
    "\n",
    "def min_error_rule(num_rings):\n",
    "    # write your code here\n",
    "    pass\n",
    "\n",
    "number_of_rings_females"
   ]
  },
  {
   "cell_type": "markdown",
   "metadata": {},
   "source": [
    "### Desicion Rule"
   ]
  },
  {
   "cell_type": "code",
   "execution_count": null,
   "metadata": {},
   "outputs": [],
   "source": [
    "for num_rings in range(1,30):\n",
    "    print(f'# of rings: {num_rings}, prediction: {min_error_rule(num_rings)}')"
   ]
  },
  {
   "cell_type": "markdown",
   "metadata": {},
   "source": [
    "### Fit Skew Normal Distribution to the data for males and females"
   ]
  },
  {
   "cell_type": "code",
   "execution_count": null,
   "metadata": {},
   "outputs": [],
   "source": [
    "from scipy.stats import skewnorm\n",
    "import matplotlib.pyplot as plt\n",
    "\n",
    "# use scipy's skewnorm to fit the data\n",
    "# write your code here"
   ]
  },
  {
   "cell_type": "markdown",
   "metadata": {},
   "source": [
    "### Visualize fit"
   ]
  },
  {
   "cell_type": "code",
   "execution_count": null,
   "metadata": {},
   "outputs": [],
   "source": [
    "plt.hist([\n",
    "    data['Rings'][data['Sex']=='M'],\n",
    "    data['Rings'][data['Sex']=='F']\n",
    "    ], bins=np.arange(1,30), density=True,\n",
    "    label=['Male', 'Female'])\n",
    "xmin, xmax = plt.xlim()\n",
    "x = np.linspace(xmin, xmax, 100)\n",
    "pdf_m = # write your code here\n",
    "pdf_f = # write your code here\n",
    "plt.plot(x, pdf_m, 'C0', linewidth=2, label=f'Skew-normal Males')\n",
    "plt.plot(x, pdf_f, 'C1', linewidth=2, label=f'Skew-normal Females')\n",
    "plt.title(\"Fit results\")\n",
    "plt.legend()\n",
    "plt.xlabel('Number of rings')\n",
    "plt.ylabel('density')\n",
    "plt.legend()\n",
    "plt.show()"
   ]
  },
  {
   "cell_type": "markdown",
   "metadata": {},
   "source": [
    "Design the minimal error rule under assumption that the number of rings is distributed according to the skew normal distribution."
   ]
  },
  {
   "cell_type": "code",
   "execution_count": null,
   "metadata": {},
   "outputs": [],
   "source": [
    "# write your code here\n",
    "\n",
    "# Using Bayes' rule\n",
    "def min_error_rule_skew(num_rings):\n",
    "    # write your code here\n",
    "    pass"
   ]
  },
  {
   "cell_type": "markdown",
   "metadata": {},
   "source": [
    "Compare both rules, do they lead to the same decision?"
   ]
  },
  {
   "cell_type": "code",
   "execution_count": null,
   "metadata": {},
   "outputs": [],
   "source": [
    "for num_rings in range(1,30):\n",
    "    print(f'# of rings: {num_rings}, predictions (Original/Skew): {min_error_rule(num_rings)} / {min_error_rule_skew(num_rings)}')"
   ]
  }
 ],
 "metadata": {
  "kernelspec": {
   "display_name": "Python 3",
   "language": "python",
   "name": "python3"
  },
  "language_info": {
   "codemirror_mode": {
    "name": "ipython",
    "version": 3
   },
   "file_extension": ".py",
   "mimetype": "text/x-python",
   "name": "python",
   "nbconvert_exporter": "python",
   "pygments_lexer": "ipython3",
   "version": "3.11.4"
  },
  "orig_nbformat": 4
 },
 "nbformat": 4,
 "nbformat_minor": 2
}
