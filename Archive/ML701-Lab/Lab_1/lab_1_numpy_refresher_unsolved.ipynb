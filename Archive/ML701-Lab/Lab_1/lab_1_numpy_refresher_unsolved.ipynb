{
 "cells": [
  {
   "cell_type": "markdown",
   "metadata": {
    "id": "HcpcL4LxGqaJ"
   },
   "source": [
    "## Numpy Refresher"
   ]
  },
  {
   "cell_type": "markdown",
   "metadata": {
    "id": "ignb_B7eGwX4"
   },
   "source": [
    "If you are new to `numpy`, first go through the following [tutorial](https://numpy.org/devdocs/user/quickstart.html). \n",
    "\n",
    "Once completed, solve the exercises, below. If you feel confident with `numpy`, you can skip these exercises."
   ]
  },
  {
   "cell_type": "markdown",
   "metadata": {},
   "source": [
    "### Exercise 1: Importing NumPy\n",
    "\n",
    "**Task**: Import the numpy library and give it the alias \"np\".\n",
    "\n",
    "**Solution**:"
   ]
  },
  {
   "cell_type": "code",
   "execution_count": null,
   "metadata": {},
   "outputs": [],
   "source": [
    "import numpy as np"
   ]
  },
  {
   "cell_type": "markdown",
   "metadata": {},
   "source": [
    "### Exercise 2: Creating Arrays\n",
    "\n",
    "**Task**: Create a numpy array of integers from 1 to 10.\n",
    "\n",
    "**Solution**:"
   ]
  },
  {
   "cell_type": "code",
   "execution_count": null,
   "metadata": {},
   "outputs": [],
   "source": [
    "# write your code here"
   ]
  },
  {
   "cell_type": "markdown",
   "metadata": {},
   "source": [
    "### Exercise 3: Reshaping Arrays\n",
    "\n",
    "**Task**: Convert the previously created array into a 2x5 matrix.\n",
    "\n",
    "**Solution**:"
   ]
  },
  {
   "cell_type": "code",
   "execution_count": null,
   "metadata": {},
   "outputs": [],
   "source": [
    "matrix = # write your code here\n",
    "print(matrix)"
   ]
  },
  {
   "cell_type": "markdown",
   "metadata": {},
   "source": [
    "### Exercise 4: Basic Array Operations\n",
    "\n",
    "**Task**: Compute the sum, mean, and standard deviation of the elements in the matrix.\n",
    "\n",
    "**Solution**:"
   ]
  },
  {
   "cell_type": "code",
   "execution_count": null,
   "metadata": {},
   "outputs": [],
   "source": [
    "sum_val = # write your code here\n",
    "mean_val = # write your code here\n",
    "std_dev = # write your code here\n",
    "print(\"Sum:\", sum_val, \"Mean:\", mean_val, \"Standard Deviation:\", std_dev)"
   ]
  },
  {
   "cell_type": "markdown",
   "metadata": {},
   "source": [
    "### Exercise 5: Array Indexing\n",
    "\n",
    "**Task**: From the matrix, extract the value at the 2nd row and 3rd column.\n",
    "\n",
    "**Solution**:"
   ]
  },
  {
   "cell_type": "code",
   "execution_count": null,
   "metadata": {},
   "outputs": [],
   "source": [
    "value = # write your code here\n",
    "print(value)"
   ]
  },
  {
   "cell_type": "markdown",
   "metadata": {},
   "source": [
    "### Exercise 6: Slicing\n",
    "\n",
    "**Task**: Extract the first row from the matrix.\n",
    "\n",
    "**Solution**:"
   ]
  },
  {
   "cell_type": "code",
   "execution_count": null,
   "metadata": {},
   "outputs": [],
   "source": [
    "first_row = # write your code here\n",
    "print(first_row)"
   ]
  },
  {
   "cell_type": "markdown",
   "metadata": {},
   "source": [
    "### Exercise 7: Element-wise Operations\n",
    "\n",
    "**Task**: Multiply every element of the matrix by 2.\n",
    "\n",
    "**Solution**:"
   ]
  },
  {
   "cell_type": "code",
   "execution_count": null,
   "metadata": {},
   "outputs": [],
   "source": [
    "doubled_matrix = # write your code here\n",
    "print(doubled_matrix)"
   ]
  },
  {
   "cell_type": "markdown",
   "metadata": {},
   "source": [
    "\n",
    "### Exercise 8: Matrix Multiplication\n",
    "\n",
    "**Task**: Multiply the matrix with its transpose.\n",
    "\n",
    "**Solution**:"
   ]
  },
  {
   "cell_type": "code",
   "execution_count": null,
   "metadata": {},
   "outputs": [],
   "source": [
    "result = # write your code here\n",
    "print(result)"
   ]
  },
  {
   "cell_type": "markdown",
   "metadata": {},
   "source": [
    "### Exercise 9: Boolean Indexing\n",
    "\n",
    "**Task**: From the array created in Exercise 2, extract all even numbers using boolean indexing.\n",
    "\n",
    "**Solution**:"
   ]
  },
  {
   "cell_type": "code",
   "execution_count": null,
   "metadata": {},
   "outputs": [],
   "source": [
    "even_numbers = # write your code here\n",
    "print(even_numbers)"
   ]
  },
  {
   "cell_type": "markdown",
   "metadata": {},
   "source": [
    "### Exercise 10: Zero and Ones\n",
    "\n",
    "**Task**: Create a 3x3 matrix full of zeros and a 4x4 matrix full of ones.\n",
    "\n",
    "**Solution**:"
   ]
  },
  {
   "cell_type": "code",
   "execution_count": null,
   "metadata": {},
   "outputs": [],
   "source": [
    "zeros_matrix = # write your code here\n",
    "ones_matrix = # write your code here\n",
    "print(zeros_matrix)\n",
    "print(ones_matrix)"
   ]
  },
  {
   "cell_type": "markdown",
   "metadata": {},
   "source": [
    "### Exercise 11: Range and Reshape\n",
    "\n",
    "**Task**: Create an array of numbers from 20 to 40 and reshape it into a 3x7 matrix.\n",
    "\n",
    "**Solution**:"
   ]
  },
  {
   "cell_type": "code",
   "execution_count": null,
   "metadata": {},
   "outputs": [],
   "source": [
    "range_arr = # write your code here\n",
    "print(range_arr)"
   ]
  },
  {
   "cell_type": "markdown",
   "metadata": {},
   "source": [
    "### Exercise 12: Random Numbers\n",
    "\n",
    "**Task**: Generate a 5x2 matrix of random numbers between 0 and 1.\n",
    "\n",
    "**Solution**:"
   ]
  },
  {
   "cell_type": "code",
   "execution_count": null,
   "metadata": {},
   "outputs": [],
   "source": [
    "random_matrix = # write your code here\n",
    "print(random_matrix)"
   ]
  },
  {
   "cell_type": "markdown",
   "metadata": {},
   "source": [
    "### Exercise 13: Max and Min\n",
    "\n",
    "**Task**: Find the maximum and minimum value of the matrix created in Exercise 12.\n",
    "\n",
    "**Solution**:"
   ]
  },
  {
   "cell_type": "code",
   "execution_count": null,
   "metadata": {},
   "outputs": [],
   "source": [
    "max_val = # write your code here\n",
    "min_val = # write your code here\n",
    "print(\"Max:\", max_val, \"Min:\", min_val)"
   ]
  },
  {
   "cell_type": "markdown",
   "metadata": {},
   "source": [
    "### Exercise 14: Broadcasting\n",
    "\n",
    "**Task**: Add the matrix `[1, 2]` to each row of the matrix created in Exercise 12.\n",
    "\n",
    "**Solution**:"
   ]
  },
  {
   "cell_type": "code",
   "execution_count": null,
   "metadata": {},
   "outputs": [],
   "source": [
    "broadcasted_matrix = # write your code here\n",
    "print(broadcasted_matrix)"
   ]
  },
  {
   "cell_type": "markdown",
   "metadata": {},
   "source": [
    "\n",
    "### Exercise 15: Linear Spaces\n",
    "\n",
    "**Task**: Create an array of 50 evenly spaced points between 0 and 10.\n",
    "\n",
    "**Solution**:"
   ]
  },
  {
   "cell_type": "code",
   "execution_count": null,
   "metadata": {},
   "outputs": [],
   "source": [
    "lin_space = # write your code here\n",
    "print(lin_space)"
   ]
  },
  {
   "cell_type": "markdown",
   "metadata": {},
   "source": [
    "### Exercise 16: Element-wise Comparison\n",
    "\n",
    "**Task**: Compare the matrix created in Exercise 12 with a threshold of 0.5. If an element is greater than 0.5, it should be labeled as `True`, otherwise `False`.\n",
    "\n",
    "**Solution**:\n"
   ]
  },
  {
   "cell_type": "code",
   "execution_count": null,
   "metadata": {},
   "outputs": [],
   "source": [
    "compared_matrix = # write your code here\n",
    "print(compared_matrix)"
   ]
  },
  {
   "cell_type": "markdown",
   "metadata": {},
   "source": [
    "### Exercise 17: Dot Product\n",
    "\n",
    "**Task**: Given two vectors `A = [2, 3]` and `B = [4, 5]`, compute their dot product.\n",
    "\n",
    "**Solution**:"
   ]
  },
  {
   "cell_type": "code",
   "execution_count": null,
   "metadata": {},
   "outputs": [],
   "source": [
    "A = # write your code here\n",
    "B = # write your code here\n",
    "dot_product = # write your code here\n",
    "print(dot_product)"
   ]
  },
  {
   "cell_type": "markdown",
   "metadata": {},
   "source": [
    "### Exercise 18: Matrix-vector Multiplication\n",
    "\n",
    "**Task**: Multiply matrix `M = [[1, 2], [3, 4]]` with vector `V = [5, 6]`.\n",
    "\n",
    "**Solution**:"
   ]
  },
  {
   "cell_type": "code",
   "execution_count": null,
   "metadata": {},
   "outputs": [],
   "source": [
    "M = # write your code here\n",
    "V = # write your code here\n",
    "result = # write your code here\n",
    "print(result)"
   ]
  },
  {
   "cell_type": "markdown",
   "metadata": {},
   "source": [
    "### Exercise 19: Matrix-matrix Multiplication\n",
    "\n",
    "**Task**: Multiply matrix `X = [[1, 2], [3, 4]]` with matrix `Y = [[2, 0], [1, 3]]`.\n",
    "\n",
    "**Solution**:"
   ]
  },
  {
   "cell_type": "code",
   "execution_count": null,
   "metadata": {},
   "outputs": [],
   "source": [
    "X = # write your code here\n",
    "Y = # write your code here\n",
    "result = # write your code here\n",
    "print(result)"
   ]
  },
  {
   "cell_type": "markdown",
   "metadata": {},
   "source": [
    "### Exercise 20: Outer Product\n",
    "\n",
    "**Task**: Compute the outer product of vectors `A = [2, 3]` and `B = [4, 5]`.\n",
    "\n",
    "**Solution**:"
   ]
  },
  {
   "cell_type": "code",
   "execution_count": null,
   "metadata": {},
   "outputs": [],
   "source": [
    "outer_product = # write your code here\n",
    "print(outer_product)"
   ]
  },
  {
   "cell_type": "markdown",
   "metadata": {},
   "source": [
    "### Exercise 21: Matrix-vector Product Using @ Operator\n",
    "\n",
    "**Task**: Multiply matrix `M = [[1, 2], [3, 4]]` with vector `V = [5, 6]` using the `@` operator.\n",
    "\n",
    "**Solution**:"
   ]
  },
  {
   "cell_type": "code",
   "execution_count": null,
   "metadata": {},
   "outputs": [],
   "source": [
    "result = # write your code here\n",
    "print(result)"
   ]
  },
  {
   "cell_type": "markdown",
   "metadata": {},
   "source": [
    "\n",
    "### Exercise 22: Kronecker Product\n",
    "\n",
    "**Task**: Compute the Kronecker product of matrices `X = [[1, 2], [3, 4]]` and `Y = [[0, 5], [6, 7]]`.\n",
    "\n",
    "**Solution**:"
   ]
  },
  {
   "cell_type": "code",
   "execution_count": null,
   "metadata": {},
   "outputs": [],
   "source": [
    "kronecker_product = # write your code here\n",
    "print(kronecker_product)"
   ]
  },
  {
   "cell_type": "markdown",
   "metadata": {},
   "source": [
    "### Exercise 23: Element-wise Multiplication\n",
    "\n",
    "**Task**: Perform an element-wise multiplication of matrices `A = [[2, 3], [4, 5]]` and `B = [[1, 0], [0, 1]]`.\n",
    "\n",
    "**Solution**:"
   ]
  },
  {
   "cell_type": "code",
   "execution_count": null,
   "metadata": {},
   "outputs": [],
   "source": [
    "A = # write your code here\n",
    "B = # write your code here\n",
    "elementwise_product = # write your code here\n",
    "print(elementwise_product)"
   ]
  },
  {
   "cell_type": "markdown",
   "metadata": {},
   "source": [
    "### Exercise 24: Cross Product\n",
    "\n",
    "**Task**: Compute the cross product of vectors `P = [1, 2, 3]` and `Q = [4, 5, 6]`.\n",
    "\n",
    "**Solution**:"
   ]
  },
  {
   "cell_type": "code",
   "execution_count": null,
   "metadata": {},
   "outputs": [],
   "source": [
    "P = # write your code here\n",
    "Q = # write your code here\n",
    "cross_product = # write your code here\n",
    "print(cross_product)"
   ]
  }
 ],
 "metadata": {
  "colab": {
   "provenance": []
  },
  "kernelspec": {
   "display_name": "torch_env",
   "language": "python",
   "name": "torch_env"
  },
  "language_info": {
   "codemirror_mode": {
    "name": "ipython",
    "version": 3
   },
   "file_extension": ".py",
   "mimetype": "text/x-python",
   "name": "python",
   "nbconvert_exporter": "python",
   "pygments_lexer": "ipython3",
   "version": "3.10.10"
  }
 },
 "nbformat": 4,
 "nbformat_minor": 1
}
