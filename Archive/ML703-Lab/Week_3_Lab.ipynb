{
 "cells": [
  {
   "cell_type": "code",
   "execution_count": 3,
   "metadata": {},
   "outputs": [
    {
     "name": "stdout",
     "output_type": "stream",
     "text": [
      "The maximum likelihood estimate for θ is: 1.795 meters\n"
     ]
    }
   ],
   "source": [
    "import numpy as np\n",
    "\n",
    "observations = np.array([1.78, 1.80, 1.79, 1.81])\n",
    "theta_hat = np.mean(observations)\n",
    "print(f\"The maximum likelihood estimate for θ is: {theta_hat} meters\")"
   ]
  },
  {
   "cell_type": "code",
   "execution_count": 5,
   "metadata": {},
   "outputs": [
    {
     "name": "stdout",
     "output_type": "stream",
     "text": [
      "The null hypothesis cannot be rejected (t-statistic = -0.7745966692415005, critical t-value = 5.84090929975643)\n"
     ]
    }
   ],
   "source": [
    "from scipy import stats\n",
    "import numpy as np\n",
    "\n",
    "observations = np.array([1.78, 1.80, 1.79, 1.81])\n",
    "sample_mean = np.mean(observations)\n",
    "sample_std_dev = np.std(observations, ddof=1)\n",
    "n = len(observations)\n",
    "\n",
    "null_hypothesis_mean = 1.8\n",
    "\n",
    "t_statistic = (sample_mean - null_hypothesis_mean) / (sample_std_dev / np.sqrt(n))\n",
    "\n",
    "alpha = 0.01\n",
    "df = n - 1 \n",
    "critical_t_value = stats.t.ppf(1 - alpha/2, df)\n",
    "\n",
    "if abs(t_statistic) > critical_t_value:\n",
    "    print(f\"The null hypothesis should be rejected (t-statistic = {t_statistic}, critical t-value = {critical_t_value})\")\n",
    "else:\n",
    "    print(f\"The null hypothesis cannot be rejected (t-statistic = {t_statistic}, critical t-value = {critical_t_value})\")\n"
   ]
  },
  {
   "cell_type": "code",
   "execution_count": 7,
   "metadata": {},
   "outputs": [
    {
     "name": "stdout",
     "output_type": "stream",
     "text": [
      "Posterior variance: 9.991673605328893e-05, mean: 1.9927837912850404\n"
     ]
    }
   ],
   "source": [
    "observations = np.array([1.78, 1.80, 1.79, 1.81])\n",
    "sample_mean = np.mean(observations)\n",
    "sample_std_dev = np.std(observations, ddof=1)\n",
    "n = len(observations)\n",
    "\n",
    "variance_post = 1 / (1 / 0.12 + n / 0.02 ** 2)\n",
    "mean_post = variance_post * (theta_hat / 0.03 ** 2 + n * sample_mean / 0.02 ** 2)\n",
    "\n",
    "print(\"Posterior variance: {}, mean: {}\".format(variance_post, mean_post))\n",
    "\n"
   ]
  },
  {
   "cell_type": "code",
   "execution_count": null,
   "metadata": {},
   "outputs": [],
   "source": []
  }
 ],
 "metadata": {
  "kernelspec": {
   "display_name": "Python 3",
   "language": "python",
   "name": "python3"
  },
  "language_info": {
   "codemirror_mode": {
    "name": "ipython",
    "version": 3
   },
   "file_extension": ".py",
   "mimetype": "text/x-python",
   "name": "python",
   "nbconvert_exporter": "python",
   "pygments_lexer": "ipython3",
   "version": "3.11.4"
  },
  "orig_nbformat": 4
 },
 "nbformat": 4,
 "nbformat_minor": 2
}
