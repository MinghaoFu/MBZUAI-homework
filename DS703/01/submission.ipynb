{
 "cells": [
  {
   "cell_type": "code",
   "execution_count": 5,
   "metadata": {},
   "outputs": [],
   "source": [
    "from bs4 import BeautifulSoup\n",
    "import pandas as pd\n",
    "\n",
    "FILE_PATH = './documents.txt'\n",
    "\n",
    "with open(FILE_PATH, 'r') as file:\n",
    "    documents_xml = file.read()"
   ]
  },
  {
   "cell_type": "code",
   "execution_count": 6,
   "metadata": {},
   "outputs": [
    {
     "data": {
      "text/html": [
       "<div>\n",
       "<style scoped>\n",
       "    .dataframe tbody tr th:only-of-type {\n",
       "        vertical-align: middle;\n",
       "    }\n",
       "\n",
       "    .dataframe tbody tr th {\n",
       "        vertical-align: top;\n",
       "    }\n",
       "\n",
       "    .dataframe thead th {\n",
       "        text-align: right;\n",
       "    }\n",
       "</style>\n",
       "<table border=\"1\" class=\"dataframe\">\n",
       "  <thead>\n",
       "    <tr style=\"text-align: right;\">\n",
       "      <th></th>\n",
       "      <th>docno</th>\n",
       "      <th>text</th>\n",
       "    </tr>\n",
       "  </thead>\n",
       "  <tbody>\n",
       "    <tr>\n",
       "      <th>0</th>\n",
       "      <td>ABST-419</td>\n",
       "      <td>A Few Examples Go A Long Way: Constructing Que...</td>\n",
       "    </tr>\n",
       "    <tr>\n",
       "      <th>1</th>\n",
       "      <td>ABST-713</td>\n",
       "      <td>Classification of Dual Language Audio-Visual C...</td>\n",
       "    </tr>\n",
       "    <tr>\n",
       "      <th>2</th>\n",
       "      <td>ABST-487</td>\n",
       "      <td>Language Modeling Approaches to Blog Post and ...</td>\n",
       "    </tr>\n",
       "    <tr>\n",
       "      <th>3</th>\n",
       "      <td>ABST-430</td>\n",
       "      <td>Bloggers as Experts We address the task of (bl...</td>\n",
       "    </tr>\n",
       "    <tr>\n",
       "      <th>4</th>\n",
       "      <td>ABST-485</td>\n",
       "      <td>Entity Models for Trigger-Reaction Documents W...</td>\n",
       "    </tr>\n",
       "  </tbody>\n",
       "</table>\n",
       "</div>"
      ],
      "text/plain": [
       "      docno                                               text\n",
       "0  ABST-419  A Few Examples Go A Long Way: Constructing Que...\n",
       "1  ABST-713  Classification of Dual Language Audio-Visual C...\n",
       "2  ABST-487  Language Modeling Approaches to Blog Post and ...\n",
       "3  ABST-430  Bloggers as Experts We address the task of (bl...\n",
       "4  ABST-485  Entity Models for Trigger-Reaction Documents W..."
      ]
     },
     "execution_count": 6,
     "metadata": {},
     "output_type": "execute_result"
    }
   ],
   "source": [
    "soup = BeautifulSoup(documents_xml, 'html.parser')\n",
    "\n",
    "# Extracting document IDs and text content\n",
    "doc_ids = [docno.get_text() for docno in soup.find_all('docno')]\n",
    "texts = [text.get_text() for text in soup.find_all('text')]\n",
    "\n",
    "# Create a DataFrame from the extracted data\n",
    "df_documents = pd.DataFrame({\n",
    "    'docno': doc_ids,\n",
    "    'text': texts\n",
    "})\n",
    "\n",
    "df_documents.head()"
   ]
  },
  {
   "cell_type": "code",
   "execution_count": 9,
   "metadata": {},
   "outputs": [
    {
     "ename": "Exception",
     "evalue": "Unable to find javac",
     "output_type": "error",
     "traceback": [
      "\u001b[0;31m---------------------------------------------------------------------------\u001b[0m",
      "\u001b[0;31mTypeError\u001b[0m                                 Traceback (most recent call last)",
      "File \u001b[0;32m~/.conda/envs/minghao_env/lib/python3.12/site-packages/jnius/env.py:347\u001b[0m, in \u001b[0;36mget_jdk_home\u001b[0;34m(platform)\u001b[0m\n\u001b[1;32m    346\u001b[0m \u001b[38;5;28;01mtry\u001b[39;00m:\n\u001b[0;32m--> 347\u001b[0m     jdk_home \u001b[38;5;241m=\u001b[39m realpath(\n\u001b[1;32m    348\u001b[0m         which(\u001b[38;5;124m'\u001b[39m\u001b[38;5;124mjavac\u001b[39m\u001b[38;5;124m'\u001b[39m)\n\u001b[1;32m    349\u001b[0m     )\u001b[38;5;241m.\u001b[39mreplace(\u001b[38;5;124m'\u001b[39m\u001b[38;5;124mbin/javac\u001b[39m\u001b[38;5;124m'\u001b[39m, \u001b[38;5;124m'\u001b[39m\u001b[38;5;124m'\u001b[39m)\n\u001b[1;32m    350\u001b[0m \u001b[38;5;28;01mexcept\u001b[39;00m \u001b[38;5;167;01mTypeError\u001b[39;00m:\n",
      "File \u001b[0;32m<frozen posixpath>:434\u001b[0m, in \u001b[0;36mrealpath\u001b[0;34m(filename, strict)\u001b[0m\n",
      "\u001b[0;31mTypeError\u001b[0m: expected str, bytes or os.PathLike object, not NoneType",
      "\nDuring handling of the above exception, another exception occurred:\n",
      "\u001b[0;31mException\u001b[0m                                 Traceback (most recent call last)",
      "Cell \u001b[0;32mIn[9], line 2\u001b[0m\n\u001b[1;32m      1\u001b[0m \u001b[38;5;28;01mimport\u001b[39;00m \u001b[38;5;21;01mpyterrier\u001b[39;00m \u001b[38;5;28;01mas\u001b[39;00m \u001b[38;5;21;01mpt\u001b[39;00m\n\u001b[0;32m----> 2\u001b[0m pt\u001b[38;5;241m.\u001b[39minit()\n",
      "File \u001b[0;32m~/.conda/envs/minghao_env/lib/python3.12/site-packages/pyterrier/__init__.py:128\u001b[0m, in \u001b[0;36minit\u001b[0;34m(version, mem, packages, jvm_opts, redirect_io, logging, home_dir, boot_packages, tqdm, no_download, helper_version)\u001b[0m\n\u001b[1;32m    126\u001b[0m \u001b[38;5;28;01mif\u001b[39;00m mem \u001b[38;5;129;01mis\u001b[39;00m \u001b[38;5;129;01mnot\u001b[39;00m \u001b[38;5;28;01mNone\u001b[39;00m:\n\u001b[1;32m    127\u001b[0m     jnius_config\u001b[38;5;241m.\u001b[39madd_options(\u001b[38;5;124m'\u001b[39m\u001b[38;5;124m-Xmx\u001b[39m\u001b[38;5;124m'\u001b[39m \u001b[38;5;241m+\u001b[39m \u001b[38;5;28mstr\u001b[39m(mem) \u001b[38;5;241m+\u001b[39m \u001b[38;5;124m'\u001b[39m\u001b[38;5;124mm\u001b[39m\u001b[38;5;124m'\u001b[39m)\n\u001b[0;32m--> 128\u001b[0m \u001b[38;5;28;01mfrom\u001b[39;00m \u001b[38;5;21;01mjnius\u001b[39;00m \u001b[38;5;28;01mimport\u001b[39;00m autoclass, cast\n\u001b[1;32m    130\u001b[0m \u001b[38;5;66;03m# we only accept Java version 11 and newer; so anything starting 1. or 9. is too old\u001b[39;00m\n\u001b[1;32m    131\u001b[0m java_version \u001b[38;5;241m=\u001b[39m autoclass(\u001b[38;5;124m\"\u001b[39m\u001b[38;5;124mjava.lang.System\u001b[39m\u001b[38;5;124m\"\u001b[39m)\u001b[38;5;241m.\u001b[39mgetProperty(\u001b[38;5;124m\"\u001b[39m\u001b[38;5;124mjava.version\u001b[39m\u001b[38;5;124m\"\u001b[39m)\n",
      "File \u001b[0;32m~/.conda/envs/minghao_env/lib/python3.12/site-packages/jnius/__init__.py:45\u001b[0m\n\u001b[1;32m     43\u001b[0m \u001b[38;5;28;01melse\u001b[39;00m:\n\u001b[1;32m     44\u001b[0m     \u001b[38;5;28;01mfrom\u001b[39;00m \u001b[38;5;21;01m.\u001b[39;00m\u001b[38;5;21;01mjnius\u001b[39;00m \u001b[38;5;28;01mimport\u001b[39;00m \u001b[38;5;241m*\u001b[39m  \u001b[38;5;66;03m# noqa\u001b[39;00m\n\u001b[0;32m---> 45\u001b[0m     \u001b[38;5;28;01mfrom\u001b[39;00m \u001b[38;5;21;01m.\u001b[39;00m\u001b[38;5;21;01mreflect\u001b[39;00m \u001b[38;5;28;01mimport\u001b[39;00m \u001b[38;5;241m*\u001b[39m  \u001b[38;5;66;03m# noqa\u001b[39;00m\n\u001b[1;32m     47\u001b[0m \u001b[38;5;66;03m# XXX monkey patch methods that cannot be in cython.\u001b[39;00m\n\u001b[1;32m     48\u001b[0m \u001b[38;5;66;03m# Cython doesn't allow to set new attribute on methods it compiled\u001b[39;00m\n\u001b[1;32m     50\u001b[0m HASHCODE_MAX \u001b[38;5;241m=\u001b[39m \u001b[38;5;241m2\u001b[39m \u001b[38;5;241m*\u001b[39m\u001b[38;5;241m*\u001b[39m \u001b[38;5;241m31\u001b[39m \u001b[38;5;241m-\u001b[39m \u001b[38;5;241m1\u001b[39m\n",
      "File \u001b[0;32m~/.conda/envs/minghao_env/lib/python3.12/site-packages/jnius/reflect.py:19\u001b[0m\n\u001b[1;32m     14\u001b[0m __all__ \u001b[38;5;241m=\u001b[39m (\u001b[38;5;124m'\u001b[39m\u001b[38;5;124mautoclass\u001b[39m\u001b[38;5;124m'\u001b[39m, \u001b[38;5;124m'\u001b[39m\u001b[38;5;124mensureclass\u001b[39m\u001b[38;5;124m'\u001b[39m, \u001b[38;5;124m'\u001b[39m\u001b[38;5;124mprotocol_map\u001b[39m\u001b[38;5;124m'\u001b[39m)\n\u001b[1;32m     16\u001b[0m log \u001b[38;5;241m=\u001b[39m logging\u001b[38;5;241m.\u001b[39mgetLogger(\u001b[38;5;124m'\u001b[39m\u001b[38;5;124mkivy\u001b[39m\u001b[38;5;124m'\u001b[39m)\u001b[38;5;241m.\u001b[39mgetChild(\u001b[38;5;18m__name__\u001b[39m)\n\u001b[0;32m---> 19\u001b[0m \u001b[38;5;28;01mclass\u001b[39;00m \u001b[38;5;21;01mClass\u001b[39;00m(JavaClass, metaclass\u001b[38;5;241m=\u001b[39mMetaJavaClass):\n\u001b[1;32m     20\u001b[0m     __javaclass__ \u001b[38;5;241m=\u001b[39m \u001b[38;5;124m'\u001b[39m\u001b[38;5;124mjava/lang/Class\u001b[39m\u001b[38;5;124m'\u001b[39m\n\u001b[1;32m     22\u001b[0m     desiredAssertionStatus \u001b[38;5;241m=\u001b[39m JavaMethod(\u001b[38;5;124m'\u001b[39m\u001b[38;5;124m()Z\u001b[39m\u001b[38;5;124m'\u001b[39m)\n",
      "File \u001b[0;32mjnius/jnius_export_class.pxi:117\u001b[0m, in \u001b[0;36mjnius.MetaJavaClass.__new__\u001b[0;34m()\u001b[0m\n",
      "File \u001b[0;32mjnius/jnius_export_class.pxi:177\u001b[0m, in \u001b[0;36mjnius.MetaJavaClass.resolve_class\u001b[0;34m()\u001b[0m\n",
      "File \u001b[0;32mjnius/jnius_env.pxi:11\u001b[0m, in \u001b[0;36mjnius.get_jnienv\u001b[0;34m()\u001b[0m\n",
      "File \u001b[0;32mjnius/jnius_jvm_dlopen.pxi:95\u001b[0m, in \u001b[0;36mjnius.get_platform_jnienv\u001b[0;34m()\u001b[0m\n",
      "File \u001b[0;32mjnius/jnius_jvm_dlopen.pxi:54\u001b[0m, in \u001b[0;36mjnius.create_jnienv\u001b[0;34m()\u001b[0m\n",
      "File \u001b[0;32m~/.conda/envs/minghao_env/lib/python3.12/site-packages/jnius/env.py:60\u001b[0m, in \u001b[0;36mget_java_setup\u001b[0;34m(platform)\u001b[0m\n\u001b[1;32m     58\u001b[0m \u001b[38;5;66;03m# go hunting for Javac and Java programs, in that order\u001b[39;00m\n\u001b[1;32m     59\u001b[0m \u001b[38;5;28;01mif\u001b[39;00m \u001b[38;5;129;01mnot\u001b[39;00m is_set(JAVA_HOME):\n\u001b[0;32m---> 60\u001b[0m     JAVA_HOME \u001b[38;5;241m=\u001b[39m get_jdk_home(platform)\n\u001b[1;32m     62\u001b[0m \u001b[38;5;28;01mif\u001b[39;00m \u001b[38;5;129;01mnot\u001b[39;00m is_set(JAVA_HOME):\n\u001b[1;32m     63\u001b[0m     JAVA_HOME \u001b[38;5;241m=\u001b[39m get_jre_home(platform)\n",
      "File \u001b[0;32m~/.conda/envs/minghao_env/lib/python3.12/site-packages/jnius/env.py:351\u001b[0m, in \u001b[0;36mget_jdk_home\u001b[0;34m(platform)\u001b[0m\n\u001b[1;32m    347\u001b[0m             jdk_home \u001b[38;5;241m=\u001b[39m realpath(\n\u001b[1;32m    348\u001b[0m                 which(\u001b[38;5;124m'\u001b[39m\u001b[38;5;124mjavac\u001b[39m\u001b[38;5;124m'\u001b[39m)\n\u001b[1;32m    349\u001b[0m             )\u001b[38;5;241m.\u001b[39mreplace(\u001b[38;5;124m'\u001b[39m\u001b[38;5;124mbin/javac\u001b[39m\u001b[38;5;124m'\u001b[39m, \u001b[38;5;124m'\u001b[39m\u001b[38;5;124m'\u001b[39m)\n\u001b[1;32m    350\u001b[0m         \u001b[38;5;28;01mexcept\u001b[39;00m \u001b[38;5;167;01mTypeError\u001b[39;00m:\n\u001b[0;32m--> 351\u001b[0m             \u001b[38;5;28;01mraise\u001b[39;00m \u001b[38;5;167;01mException\u001b[39;00m(\u001b[38;5;124m'\u001b[39m\u001b[38;5;124mUnable to find javac\u001b[39m\u001b[38;5;124m'\u001b[39m)\n\u001b[1;32m    353\u001b[0m \u001b[38;5;28;01mif\u001b[39;00m \u001b[38;5;129;01mnot\u001b[39;00m jdk_home \u001b[38;5;129;01mor\u001b[39;00m \u001b[38;5;129;01mnot\u001b[39;00m exists(jdk_home):\n\u001b[1;32m    354\u001b[0m     \u001b[38;5;28;01mreturn\u001b[39;00m \u001b[38;5;28;01mNone\u001b[39;00m\n",
      "\u001b[0;31mException\u001b[0m: Unable to find javac"
     ]
    }
   ],
   "source": [
    "import pyterrier as pt\n",
    "pt.init()"
   ]
  },
  {
   "cell_type": "code",
   "execution_count": null,
   "metadata": {},
   "outputs": [],
   "source": []
  }
 ],
 "metadata": {
  "kernelspec": {
   "display_name": "Python 3",
   "language": "python",
   "name": "python3"
  },
  "language_info": {
   "codemirror_mode": {
    "name": "ipython",
    "version": 3
   },
   "file_extension": ".py",
   "mimetype": "text/x-python",
   "name": "python",
   "nbconvert_exporter": "python",
   "pygments_lexer": "ipython3",
   "version": "3.12.1"
  }
 },
 "nbformat": 4,
 "nbformat_minor": 2
}
