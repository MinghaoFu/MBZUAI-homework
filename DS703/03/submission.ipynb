{
 "cells": [
  {
   "cell_type": "code",
   "execution_count": 1,
   "metadata": {},
   "outputs": [
    {
     "name": "stdout",
     "output_type": "stream",
     "text": [
      "{'Silhouette Score': {'K-means': 0.45994823920518635, 'Hierarchical': 0.4466890410285909}, 'Davies-Bouldin Score': {'K-means': 0.8335949464754338, 'Hierarchical': 0.8034665302876753}, 'Calinski-Harabasz Index': {'K-means': 241.90440170183157, 'Hierarchical': 222.71916382215363}}\n"
     ]
    }
   ],
   "source": [
    "import numpy as np\n",
    "\n",
    "# Load the Iris dataset\n",
    "from sklearn.datasets import load_iris\n",
    "data = load_iris()\n",
    "X = data.data\n",
    "\n",
    "# Standardize features\n",
    "def standardize(X):\n",
    "    return (X - np.mean(X, axis=0)) / np.std(X, axis=0)\n",
    "\n",
    "X_scaled = standardize(X)\n",
    "\n",
    "# K-means clustering\n",
    "def kmeans(X, n_clusters, n_init=10, max_iter=300):\n",
    "    best_inertia = np.inf\n",
    "    best_labels = None\n",
    "    for _ in range(n_init):\n",
    "        # Initialize centroids randomly from data points\n",
    "        centroids = X[np.random.choice(X.shape[0], n_clusters, replace=False), :]\n",
    "        for _ in range(max_iter):\n",
    "            # Assign labels based on closest centroid\n",
    "            distances = np.sqrt(((X - centroids[:, np.newaxis])**2).sum(axis=2))\n",
    "            labels = np.argmin(distances, axis=0)\n",
    "            # Calculate new centroids\n",
    "            new_centroids = np.array([X[labels == i].mean(axis=0) for i in range(n_clusters)])\n",
    "            # Check for convergence\n",
    "            if np.all(centroids == new_centroids):\n",
    "                break\n",
    "            centroids = new_centroids\n",
    "        # Compute inertia\n",
    "        inertia = sum(np.min(distances, axis=0))\n",
    "        if inertia < best_inertia:\n",
    "            best_inertia = inertia\n",
    "            best_labels = labels\n",
    "    return best_labels\n",
    "\n",
    "kmeans_labels = kmeans(X_scaled, 3)\n",
    "\n",
    "# Hierarchical clustering\n",
    "def hierarchical(X, n_clusters):\n",
    "    from scipy.cluster.hierarchy import linkage, fcluster\n",
    "    Z = linkage(X, method='ward')\n",
    "    labels = fcluster(Z, n_clusters, criterion='maxclust')\n",
    "    return labels - 1  # Adjust labels to start at 0\n",
    "\n",
    "hierarchical_labels = hierarchical(X_scaled, 3)\n",
    "\n",
    "# Using sklearn to compute evaluation metrics (simplified for example)\n",
    "from sklearn.metrics import silhouette_score, davies_bouldin_score, calinski_harabasz_score\n",
    "\n",
    "evaluation_metrics = {\n",
    "    'Silhouette Score': {\n",
    "        'K-means': silhouette_score(X_scaled, kmeans_labels),\n",
    "        'Hierarchical': silhouette_score(X_scaled, hierarchical_labels)\n",
    "    },\n",
    "    'Davies-Bouldin Score': {\n",
    "        'K-means': davies_bouldin_score(X_scaled, kmeans_labels),\n",
    "        'Hierarchical': davies_bouldin_score(X_scaled, hierarchical_labels)\n",
    "    },\n",
    "    'Calinski-Harabasz Index': {\n",
    "        'K-means': calinski_harabasz_score(X_scaled, kmeans_labels),\n",
    "        'Hierarchical': calinski_harabasz_score(X_scaled, hierarchical_labels)\n",
    "    }\n",
    "}\n",
    "\n",
    "print(evaluation_metrics)\n"
   ]
  },
  {
   "cell_type": "code",
   "execution_count": null,
   "metadata": {},
   "outputs": [],
   "source": []
  }
 ],
 "metadata": {
  "kernelspec": {
   "display_name": "Python 3",
   "language": "python",
   "name": "python3"
  },
  "language_info": {
   "codemirror_mode": {
    "name": "ipython",
    "version": 3
   },
   "file_extension": ".py",
   "mimetype": "text/x-python",
   "name": "python",
   "nbconvert_exporter": "python",
   "pygments_lexer": "ipython3",
   "version": "3.12.1"
  }
 },
 "nbformat": 4,
 "nbformat_minor": 2
}
