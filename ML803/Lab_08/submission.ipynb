{
 "cells": [
  {
   "cell_type": "code",
   "execution_count": 14,
   "metadata": {},
   "outputs": [],
   "source": [
    "import numpy as np\n",
    "from scipy.stats import uniform, laplace, norm\n",
    "\n",
    "# Task1\n",
    "np.random.seed(69)\n",
    "N = 1000\n",
    "\n",
    "s1 = uniform.rvs(size=N)\n",
    "s2 = laplace.rvs(size=N)\n",
    "s3 = norm.rvs(size=N)\n",
    "\n",
    "S = np.vstack([s1, s2, s3])\n",
    "\n",
    "# gt\n",
    "A = np.array([[0.4, 1, 0.2],\n",
    "              [1, 0.4, 0.5],\n",
    "              [0.5, 0.8, 1]])\n",
    "\n",
    "X = np.dot(A, S)"
   ]
  },
  {
   "cell_type": "code",
   "execution_count": 15,
   "metadata": {},
   "outputs": [],
   "source": [
    "# Task 2\n",
    "def whitening(X):\n",
    "    Cov = np.cov(X)\n",
    "\n",
    "    eigen_values, eigen_vectors = np.linalg.eigh(Cov)\n",
    "\n",
    "    D_inv_sqrt = np.diag(1.0 / np.sqrt(eigen_values))\n",
    "\n",
    "    V = np.dot(eigen_vectors, D_inv_sqrt)\n",
    "\n",
    "    X_white = np.dot(V.T, X)\n",
    "\n",
    "    return X_white\n",
    "\n",
    "X_white = whitening(X)"
   ]
  },
  {
   "cell_type": "code",
   "execution_count": 16,
   "metadata": {},
   "outputs": [],
   "source": [
    "# Task 3\n",
    "def fastICA(X, C, max_iter=1000, tol=1e-04):\n",
    "    N, M = X.shape\n",
    "    \n",
    "    def g(u): return np.tanh(u)\n",
    "    def g_prime(u): return 1 - np.tanh(u)**2\n",
    "\n",
    "    W = np.zeros((C, N))\n",
    "    \n",
    "    for p in range(C):\n",
    "        w_p = np.random.normal(size=(N,))\n",
    "        w_p = w_p / np.linalg.norm(w_p)\n",
    "        \n",
    "        for _ in range(max_iter):\n",
    "            w_old = w_p.copy()\n",
    "            \n",
    "            w_p = (X * g(np.dot(w_p.T, X))).mean(axis=1) - g_prime(np.dot(w_p.T, X)).mean() * w_p\n",
    "            w_p -= np.dot(np.dot(w_p, W[:p].T), W[:p])\n",
    "            w_p /= np.linalg.norm(w_p)\n",
    "            \n",
    "            if np.abs(np.abs(np.dot(w_p.T, w_old)) - 1) < tol:\n",
    "                break\n",
    "        \n",
    "        W[p, :] = w_p\n",
    "    \n",
    "    S = np.dot(W, X)\n",
    "    return W, S\n",
    "\n",
    "W_est, S_est = fastICA(X_white, C=3)"
   ]
  },
  {
   "cell_type": "code",
   "execution_count": 17,
   "metadata": {},
   "outputs": [
    {
     "data": {
      "text/plain": [
       "(array([[-0.9818926 , -0.02862336,  0.18726353],\n",
       "        [ 0.15699836,  0.43023024,  0.88896201],\n",
       "        [-0.10601151,  0.90226529, -0.41794607]]),\n",
       " array([[0.4, 1. , 0.2],\n",
       "        [1. , 0.4, 0.5],\n",
       "        [0.5, 0.8, 1. ]]))"
      ]
     },
     "execution_count": 17,
     "metadata": {},
     "output_type": "execute_result"
    }
   ],
   "source": [
    "A_est = np.linalg.inv(W_est)\n",
    "A_est, A"
   ]
  },
  {
   "cell_type": "code",
   "execution_count": 19,
   "metadata": {},
   "outputs": [
    {
     "name": "stdout",
     "output_type": "stream",
     "text": [
      "Pearson Mean Correlation Coefficient:  0.9994863370133246\n"
     ]
    }
   ],
   "source": [
    "from minghao_utils.metrics.correlation import compute_mcc\n",
    "\n",
    "print('Pearson Mean Correlation Coefficient: ', compute_mcc(S, S_est, 'Pearson'))"
   ]
  },
  {
   "cell_type": "markdown",
   "metadata": {},
   "source": [
    "### Conclusion\n",
    "MCC is closed to 1.0. Seperating sources correctly."
   ]
  },
  {
   "cell_type": "markdown",
   "metadata": {},
   "source": []
  }
 ],
 "metadata": {
  "kernelspec": {
   "display_name": "Python 3",
   "language": "python",
   "name": "python3"
  },
  "language_info": {
   "codemirror_mode": {
    "name": "ipython",
    "version": 3
   },
   "file_extension": ".py",
   "mimetype": "text/x-python",
   "name": "python",
   "nbconvert_exporter": "python",
   "pygments_lexer": "ipython3",
   "version": "3.12.1"
  }
 },
 "nbformat": 4,
 "nbformat_minor": 2
}
