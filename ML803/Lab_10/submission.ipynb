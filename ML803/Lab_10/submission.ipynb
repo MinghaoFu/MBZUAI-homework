{
 "cells": [
  {
   "cell_type": "code",
   "execution_count": 1,
   "metadata": {},
   "outputs": [
    {
     "name": "stdout",
     "output_type": "stream",
     "text": [
      "{'D', 'A'}\n"
     ]
    }
   ],
   "source": [
    "import networkx as nx\n",
    "# Task 1\n",
    "def find_reachable_nodes(graph, start_node, blocking_nodes):\n",
    "    # Convert blocking nodes list to a set for efficient lookup\n",
    "    blocking_nodes_set = set(blocking_nodes)\n",
    "    \n",
    "    # Recursive function to find all ancestors of a node\n",
    "    def explore_ancestors(node, visited=None):\n",
    "        if visited is None:\n",
    "            visited = set()\n",
    "        ancestors = set()\n",
    "        for predecessor in graph.predecessors(node):\n",
    "            if predecessor not in visited:\n",
    "                visited.add(predecessor)\n",
    "                ancestors.add(predecessor)\n",
    "                ancestors.update(explore_ancestors(predecessor, visited))\n",
    "        return ancestors\n",
    "\n",
    "    # Find ancestors for all blocking nodes\n",
    "    ancestors_set = set()\n",
    "    for block_node in blocking_nodes_set:\n",
    "        ancestors_set.update(explore_ancestors(block_node))\n",
    "\n",
    "    # Initialize loop variables\n",
    "    nodes_to_process = {(start_node, 'True')}\n",
    "    processed_nodes = set()\n",
    "    visited = set()\n",
    "\n",
    "    # Process nodes until there are none left to check\n",
    "    while nodes_to_process:\n",
    "        current_node, direction = nodes_to_process.pop()\n",
    "        if (current_node, direction) not in visited:\n",
    "            visited.add((current_node, direction))\n",
    "            if current_node not in blocking_nodes_set:\n",
    "                processed_nodes.add(current_node)\n",
    "            if direction == 'True':\n",
    "                if current_node not in blocking_nodes_set:\n",
    "                    for parent in graph.predecessors(current_node):\n",
    "                        nodes_to_process.add((parent, 'True'))\n",
    "                    for child in graph.successors(current_node):\n",
    "                        nodes_to_process.add((child, 'False'))\n",
    "            else:  # direction == 'False'\n",
    "                if current_node not in blocking_nodes_set:\n",
    "                    for child in graph.successors(current_node):\n",
    "                        nodes_to_process.add((child, 'False'))\n",
    "                if current_node in ancestors_set:\n",
    "                    for parent in graph.predecessors(current_node):\n",
    "                        nodes_to_process.add((parent, 'True'))\n",
    "\n",
    "    return processed_nodes\n",
    "\n",
    "# Task 2\n",
    "# Initialize a directed graph and add edges from slide\n",
    "graph = nx.DiGraph()\n",
    "edges = [('A', 'D'), ('B', 'D'), ('B', 'E'), ('C', 'E'), ('C', 'F'), ('D', 'H'), ('E', 'I'), ('H', 'K'), ('I', 'K'), ('K', 'M'), ('F', 'J'), ('J', 'L'), ('L', 'M')]\n",
    "graph.add_edges_from(edges)\n",
    "\n",
    "# Example: Find nodes reachable from 'A' considering ['B', 'H'] as blocking nodes\n",
    "reachable_nodes = find_reachable_nodes(graph, 'A', ['B', 'H'])\n",
    "print(reachable_nodes)\n"
   ]
  },
  {
   "cell_type": "code",
   "execution_count": null,
   "metadata": {},
   "outputs": [],
   "source": []
  }
 ],
 "metadata": {
  "kernelspec": {
   "display_name": "Python 3",
   "language": "python",
   "name": "python3"
  },
  "language_info": {
   "codemirror_mode": {
    "name": "ipython",
    "version": 3
   },
   "file_extension": ".py",
   "mimetype": "text/x-python",
   "name": "python",
   "nbconvert_exporter": "python",
   "pygments_lexer": "ipython3",
   "version": "3.12.1"
  }
 },
 "nbformat": 4,
 "nbformat_minor": 2
}
