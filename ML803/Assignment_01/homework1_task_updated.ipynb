{
 "cells": [
  {
   "cell_type": "markdown",
   "metadata": {},
   "source": [
    "In this homework, you need to solve two tasks. For problems with theoretical calculations, you need to show a sufficient number of intermediate steps to explain how you have obtained the result. \n",
    "* Formulas are expected in Latex style inside the notebook. The assignment should be uploaded in Jupyter Notebook format(`.ipynb`)."
   ]
  },
  {
   "cell_type": "markdown",
   "metadata": {},
   "source": [
    "# Task 1. Martian weather. (20 points)"
   ]
  },
  {
   "cell_type": "markdown",
   "metadata": {},
   "source": [
    "In this task you need to estimate parameters and their confidence intervals for a given sample. As data, you will explore martian weather. For more visualizations take a look [here](https://pudding.cool/2018/01/mars-weather/).\n",
    "\n",
    "First of all, you need some libraries. Also, fix random seed to get reproducable results."
   ]
  },
  {
   "cell_type": "code",
   "execution_count": null,
   "metadata": {},
   "outputs": [],
   "source": [
    "import numpy as np\n",
    "from numpy.random import choice, seed\n",
    "import pandas as pd\n",
    "from scipy.stats import sem, norm, skew, chi2\n",
    "import matplotlib.pyplot as plt\n",
    "\n",
    "\n",
    "seed(366)"
   ]
  },
  {
   "cell_type": "code",
   "execution_count": null,
   "metadata": {},
   "outputs": [],
   "source": [
    "import matplotlib as mp\n",
    "import matplotlib.font_manager\n",
    "\n",
    "titlesize = 20\n",
    "labelsize = 16\n",
    "legendsize = labelsize\n",
    "xticksize = 14\n",
    "yticksize = xticksize\n",
    "\n",
    "mp.rcParams['legend.markerscale'] = 1.5     # the relative size of legend markers vs. original\n",
    "mp.rcParams['legend.handletextpad'] = 0.5\n",
    "mp.rcParams['legend.labelspacing'] = 0.4    # the vertical space between the legend entries in fraction of fontsize\n",
    "mp.rcParams['legend.borderpad'] = 0.5       # border whitespace in fontsize units\n",
    "mp.rcParams['font.size'] = 12\n",
    "mp.rcParams['font.family'] = 'serif'\n",
    "mp.rcParams['font.serif'] = 'Times New Roman'\n",
    "mp.rcParams['axes.labelsize'] = labelsize\n",
    "mp.rcParams['axes.titlesize'] = titlesize\n",
    "mp.rcParams['axes.unicode_minus'] = False\n",
    "\n",
    "mp.rc('xtick', labelsize=xticksize)\n",
    "mp.rc('ytick', labelsize=yticksize)\n",
    "mp.rc('legend', fontsize=legendsize)\n",
    "\n",
    "mp.rc('font', **{'family':'serif'})"
   ]
  },
  {
   "cell_type": "markdown",
   "metadata": {},
   "source": [
    "## Part 1. Load data (1 point)\n",
    "\n",
    "You need to load data from `mars-weather.csv`, take feature for your variant, remove absent values (`Nan`s) and convert sample to `int` type. "
   ]
  },
  {
   "cell_type": "markdown",
   "metadata": {},
   "source": [
    "### a) \n",
    "\n",
    "`feature_name = \"min_temp\"`"
   ]
  },
  {
   "cell_type": "markdown",
   "metadata": {},
   "source": [
    "### b)\n",
    "\n",
    "`feature_name = \"max_temp\"`"
   ]
  },
  {
   "cell_type": "code",
   "execution_count": null,
   "metadata": {},
   "outputs": [],
   "source": [
    "# Your code here\n",
    "\n",
    "feature_name = ...\n",
    "df = pd.read_csv(\"mars-weather.csv\")[feature_name]\n",
    "sample_full = df.dropna().values.astype(np.int)"
   ]
  },
  {
   "cell_type": "markdown",
   "metadata": {},
   "source": [
    "Let's take a quarter of martian year ~ 168 sols(martian days). Sample them randomly from full sample using function `choice`(from `numpy.random`) with parameter `replace=False`."
   ]
  },
  {
   "cell_type": "code",
   "execution_count": null,
   "metadata": {},
   "outputs": [],
   "source": [
    "# Your code here\n",
    "\n",
    "N = 168\n",
    "sample_part = ..."
   ]
  },
  {
   "cell_type": "markdown",
   "metadata": {},
   "source": [
    "Plot values frequences for full and partial sample using bar plot."
   ]
  },
  {
   "cell_type": "code",
   "execution_count": null,
   "metadata": {},
   "outputs": [],
   "source": [
    "# Your code here\n",
    "\n"
   ]
  },
  {
   "cell_type": "markdown",
   "metadata": {},
   "source": [
    "## Part 2. Parameter estimation. (6 points)\n",
    "Find the following parameters' estimates and their 95% confidence intervals (except for `mode` and `skewness`). You need to show theoretical calculations for estimates and intervals (with intermediate steps) and then make simulation."
   ]
  },
  {
   "cell_type": "markdown",
   "metadata": {},
   "source": [
    "### a) Mean and CI"
   ]
  },
  {
   "cell_type": "markdown",
   "metadata": {},
   "source": [
    "$$ \\hat{mean} = ...$$\n",
    "\n",
    "$$ CI(\\hat{mean}) = ...$$"
   ]
  },
  {
   "cell_type": "code",
   "execution_count": null,
   "metadata": {},
   "outputs": [],
   "source": [
    "# Your code here\n",
    "\n",
    "mean, lower, upper = ...\n",
    "f\"Mean {mean:.3f} with confidence interval ({lower:.3f}, {upper:.3f})\""
   ]
  },
  {
   "cell_type": "markdown",
   "metadata": {},
   "source": [
    "### b) Median and CI\n",
    "\n",
    "Here you can assume that PDF is continuous at the median point and provide a normal-based interval.\n",
    "\n",
    "$$ \\hat{median} = ...$$\n",
    "\n",
    "$$ CI(\\hat{median}) = ...$$"
   ]
  },
  {
   "cell_type": "code",
   "execution_count": null,
   "metadata": {},
   "outputs": [],
   "source": [
    "# Your code here\n",
    "\n",
    "median, lower, upper = ...\n",
    "f\"Median {median:.3f} with normal-based confidence interval ({lower:.3f}, {upper:.3f})\""
   ]
  },
  {
   "cell_type": "markdown",
   "metadata": {},
   "source": [
    "### c) Variance and CI\n",
    "\n",
    "Here you can assume that the sample comes from a nornal distribution, but the mean and variance are not known.\n",
    "\n",
    "\n",
    "$$ \\hat{Variance} = ...$$\n",
    "\n",
    "$$ CI(\\hat{Variance}) = ...$$"
   ]
  },
  {
   "cell_type": "code",
   "execution_count": null,
   "metadata": {},
   "outputs": [],
   "source": [
    "# Your code here\n",
    "\n",
    "var, (lower, upper) = ...\n",
    "f\"Variance {var:.3f} with confidence interval ({lower:.3f}, {upper:.3f})\""
   ]
  },
  {
   "cell_type": "markdown",
   "metadata": {},
   "source": [
    "### d) Mode (most frequent value in a sample)"
   ]
  },
  {
   "cell_type": "code",
   "execution_count": null,
   "metadata": {},
   "outputs": [],
   "source": [
    "# Your code here\n",
    "\n",
    "mode = ...\n",
    "f\"Mode: {mode}\""
   ]
  },
  {
   "cell_type": "markdown",
   "metadata": {},
   "source": [
    "### e) Skewness"
   ]
  },
  {
   "cell_type": "code",
   "execution_count": null,
   "metadata": {},
   "outputs": [],
   "source": [
    "# Your code here\n",
    "\n",
    "skewness = ...\n",
    "f\"Skewness: {skewness:e}\""
   ]
  },
  {
   "cell_type": "markdown",
   "metadata": {},
   "source": [
    "## Part 3. Bootstrap (4 points)\n",
    "\n",
    "Find confidence intervals for following estimates using bootsrap. Use function `choice` with parameter `replace=True` for bootstrap sampling. Try different numbers of generated samples."
   ]
  },
  {
   "cell_type": "markdown",
   "metadata": {},
   "source": [
    "### a) Mean and CI"
   ]
  },
  {
   "cell_type": "code",
   "execution_count": null,
   "metadata": {},
   "outputs": [],
   "source": [
    "# Your code here\n",
    "\n",
    "mean, lower, upper = ...\n",
    "f\"Mean {mean:.3f} with confident interval ({lower:.3f}, {upper:.3f})\""
   ]
  },
  {
   "cell_type": "markdown",
   "metadata": {},
   "source": [
    "### b) Median and CI"
   ]
  },
  {
   "cell_type": "code",
   "execution_count": null,
   "metadata": {},
   "outputs": [],
   "source": [
    "# Your code here\n",
    "\n",
    "median, lower, upper = ...\n",
    "f\"Median {median:.3f} with normal-based confident interval ({lower:.3f}, {upper:.3f})\""
   ]
  },
  {
   "cell_type": "markdown",
   "metadata": {},
   "source": [
    "### c) Variance and CI"
   ]
  },
  {
   "cell_type": "code",
   "execution_count": null,
   "metadata": {},
   "outputs": [],
   "source": [
    "# Your code here\n",
    "\n",
    "var, lower, upper = ...\n",
    "f\"Variance {var:.3f} with confident interval ({lower:.3f}, {upper:.3f})\""
   ]
  },
  {
   "cell_type": "markdown",
   "metadata": {},
   "source": [
    "## Part 4. Comparison with true values. (1 point)\n",
    "\n",
    "Compare with estimates calculated over full sample. Write small conclusion about estimates and their confidence intervals obtained without and with bootstrap. Also, you can share some conclusions about martian weather :)"
   ]
  },
  {
   "cell_type": "code",
   "execution_count": null,
   "metadata": {},
   "outputs": [],
   "source": [
    "# Your code here\n",
    "\n",
    "mean = ...\n",
    "median = ...\n",
    "var = ...\n",
    "moda = ...\n",
    "skewness = ..."
   ]
  },
  {
   "cell_type": "markdown",
   "metadata": {},
   "source": [
    "## Part 5. Confidence intervals and sample size. (8 points)\n",
    "\n",
    "Compare size of confidence intervals **for the mean** obtained without and with bootstrap. Additionally, compare an empirical coverage of different confidence intervals (by generating sufficient number of samples of corresponding size and calculating proportion of cases when the interval covers the mean of the full sample). Consider sizes `[42, 84, 168, 335, 670, 1340]`. Plot results and make conclusions based on obtained results."
   ]
  },
  {
   "cell_type": "code",
   "execution_count": null,
   "metadata": {},
   "outputs": [],
   "source": [
    "seed(476)\n",
    "sizes = [42, 84, 168, 335, 670, 1340]\n"
   ]
  },
  {
   "cell_type": "code",
   "execution_count": null,
   "metadata": {},
   "outputs": [],
   "source": [
    "# Compare size of confidence intervals obtained without and with bootstrap\n",
    "# Your code here\n",
    "\n"
   ]
  },
  {
   "cell_type": "code",
   "execution_count": null,
   "metadata": {},
   "outputs": [],
   "source": [
    "# Plot results\n",
    "# Your code here\n",
    "\n"
   ]
  },
  {
   "cell_type": "code",
   "execution_count": null,
   "metadata": {},
   "outputs": [],
   "source": [
    "# Compare the empirical coverage of different confidence intervals\n",
    "# Your code here\n",
    "\n"
   ]
  },
  {
   "cell_type": "code",
   "execution_count": null,
   "metadata": {},
   "outputs": [],
   "source": [
    "# Plot results\n",
    "# Your code here\n",
    "\n"
   ]
  },
  {
   "cell_type": "markdown",
   "metadata": {},
   "source": [
    "Your conclusion:"
   ]
  },
  {
   "cell_type": "markdown",
   "metadata": {},
   "source": [
    "# Task 2. Currency in RC-circuit. (25 points)\n",
    "\n",
    "In this part you need to estimate parameters and apply delta method and bootstrap. \n",
    "\n",
    "First of all, you need some libraries. Also, fix random seed to get reproducible results."
   ]
  },
  {
   "cell_type": "code",
   "execution_count": null,
   "metadata": {},
   "outputs": [],
   "source": [
    "import numpy as np\n",
    "from scipy.stats import norm, uniform\n",
    "from numpy.random import choice, seed\n",
    "\n",
    "seed(100)"
   ]
  },
  {
   "cell_type": "markdown",
   "metadata": {},
   "source": [
    "## Part 1. Estimate parameters. (4 points)"
   ]
  },
  {
   "cell_type": "markdown",
   "metadata": {},
   "source": [
    "Assume that there is an RC-circuit with a capacitor and a resistor. \n",
    "<img src=\"circuit.png\" width=\"200\"  class=\"center\">\n",
    "\n",
    "We charge the capacitor until it reaches voltage $V$ and measure current intensity. In this case voltage on the capacitor yields the formula for exponential decay:\n",
    "\n",
    "$$ V_C(t) = V e^{-\\frac{t}{RC}} $$\n",
    "\n",
    "Let's assume that voltage $V$ and resistence $R$ are **independent** and belong to the following distributions:\n",
    "\n",
    "### a) \n",
    "$V \\sim N(\\mu = 5, \\sigma = 1)$, \n",
    "\n",
    "$R \\sim \\text{Uniform}(a = 5, b = 10)$\n",
    "\n",
    "### b)\n",
    "\n",
    "$V \\sim N(\\mu = 15, \\sigma = 3)$, \n",
    "\n",
    "$R \\sim \\text{Exp}(\\lambda = 0.1)$\n",
    "\n",
    "Consider **true values** $\\bar{V}$ and $\\bar{R}$ for $V$ and $R$ to be the means of the corresponding distributions."
   ]
  },
  {
   "cell_type": "markdown",
   "metadata": {},
   "source": [
    "Generate sample for $V$ of size 100. Apply maximum likelihood to estimate the mean. Show theoretical calculations for the estimates (with intermediate steps) and make simulation.\n",
    "\n",
    "$$\\hat{V}_{n} = ...$$"
   ]
  },
  {
   "cell_type": "code",
   "execution_count": null,
   "metadata": {},
   "outputs": [],
   "source": [
    "# Your code here\n"
   ]
  },
  {
   "cell_type": "markdown",
   "metadata": {},
   "source": [
    "Generate sample for $R$ on size 100. Apply maximum likelihood to estimate the mean. Show theoretical calculations for estimates (with intermediate steps) and make simulation.\n",
    "\n",
    "$$\\hat{R}_{n} = ...$$"
   ]
  },
  {
   "cell_type": "code",
   "execution_count": null,
   "metadata": {},
   "outputs": [],
   "source": [
    "# Your code here\n"
   ]
  },
  {
   "cell_type": "markdown",
   "metadata": {},
   "source": [
    "## Part 2. Apply delta method. (8 points)"
   ]
  },
  {
   "cell_type": "markdown",
   "metadata": {},
   "source": [
    "Assume, that we measure current intensity at $t=1$ second. Let's take $C = 1$. In this case we get the following simplified formula:\n",
    "\n",
    "$$ \\bar{I} = \\frac{V}{R} e^{-\\frac{1}{R}} $$\n",
    "\n",
    "Find estimate for current and it's confidence interval. Show theoretical calculations for estimates (with intermediate steps) and make simulation.\n",
    "\n",
    "$$\\hat{I}_n = ...$$\n",
    "\n",
    "$$ CI(\\hat{I}_n) = ...$$"
   ]
  },
  {
   "cell_type": "code",
   "execution_count": null,
   "metadata": {},
   "outputs": [],
   "source": [
    "# Your code here\n",
    "\n",
    "se = ...\n",
    "f\"SE for delta method: {se:e}\""
   ]
  },
  {
   "cell_type": "markdown",
   "metadata": {},
   "source": [
    "## Part 3. Bootstrap estimation. (2 points)\n",
    "\n",
    "Estimate confidence interval for $I$ using bootstrap."
   ]
  },
  {
   "cell_type": "code",
   "execution_count": null,
   "metadata": {},
   "outputs": [],
   "source": [
    "# Your code here\n",
    "\n",
    "se = ...\n",
    "f\"SE for non-parametric bootstrap: {se:e}\""
   ]
  },
  {
   "cell_type": "markdown",
   "metadata": {},
   "source": [
    "## Part 4. Compare results. (8 points)"
   ]
  },
  {
   "cell_type": "markdown",
   "metadata": {},
   "source": [
    "Compare the size of confidence intervals obtained using delta method and bootstrap. Additionally, compare the empirical coverage of different confidence intervals (by generating sufficient number of samples of corresponding size and calculating proportion of cases when the interval covers the true value for the current $I$). Consider sizes `[1e1, ..., 1e4]`. Plot results and make conclusions based on obtained results."
   ]
  },
  {
   "cell_type": "code",
   "execution_count": null,
   "metadata": {},
   "outputs": [],
   "source": [
    "sizes = np.logspace(1, 4, 4).astype(np.int)"
   ]
  },
  {
   "cell_type": "code",
   "execution_count": null,
   "metadata": {},
   "outputs": [],
   "source": [
    "# Compare size of confidence intervals obtained using delta method and bootstrap\n",
    "# Your code here\n",
    "\n"
   ]
  },
  {
   "cell_type": "code",
   "execution_count": null,
   "metadata": {},
   "outputs": [],
   "source": [
    "# Plot results\n",
    "# Your code here\n",
    "\n"
   ]
  },
  {
   "cell_type": "code",
   "execution_count": null,
   "metadata": {},
   "outputs": [],
   "source": [
    "# Compare an empirical coverage of different confidence intervals\n",
    "# Your code here\n",
    "\n"
   ]
  },
  {
   "cell_type": "code",
   "execution_count": null,
   "metadata": {},
   "outputs": [],
   "source": [
    "# Plot results\n",
    "# Your code here\n",
    "\n"
   ]
  },
  {
   "cell_type": "markdown",
   "metadata": {},
   "source": [
    "Your conclusion:"
   ]
  }
 ],
 "metadata": {
  "kernelspec": {
   "display_name": "Python 3 (ipykernel)",
   "language": "python",
   "name": "python3"
  },
  "language_info": {
   "codemirror_mode": {
    "name": "ipython",
    "version": 3
   },
   "file_extension": ".py",
   "mimetype": "text/x-python",
   "name": "python",
   "nbconvert_exporter": "python",
   "pygments_lexer": "ipython3",
   "version": "3.12.1"
  }
 },
 "nbformat": 4,
 "nbformat_minor": 4
}
