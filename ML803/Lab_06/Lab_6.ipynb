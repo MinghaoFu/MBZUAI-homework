{
 "cells": [
  {
   "cell_type": "code",
   "execution_count": 1,
   "metadata": {},
   "outputs": [],
   "source": [
    "import numpy as np\n",
    "import scipy\n",
    "import scipy.stats\n",
    "import pandas as pd\n",
    "import matplotlib.pyplot as plt"
   ]
  },
  {
   "cell_type": "markdown",
   "metadata": {},
   "source": [
    "# Lab 6\n",
    "## Hypothesis testing"
   ]
  },
  {
   "cell_type": "markdown",
   "metadata": {},
   "source": [
    "### Task 1: Wald and permutation tests"
   ]
  },
  {
   "cell_type": "markdown",
   "metadata": {},
   "source": [
    "In 1861, 10 essays appeared in the New Orleans Daily Crescent. They\n",
    "were signed “Quintus Curtius Snodgrass” and some people suspected\n",
    "they were actually written by Mark Twain. To investigate this, we will\n",
    "consider the proportion of three letter words found in an author’s work.\n",
    "From eight Twain essays we have:"
   ]
  },
  {
   "cell_type": "code",
   "execution_count": 2,
   "metadata": {},
   "outputs": [],
   "source": [
    "X = np.array([.225, .262, .217, .240, .230, .229, .235, .217])"
   ]
  },
  {
   "cell_type": "markdown",
   "metadata": {},
   "source": [
    "From 10 Snodgrass essays we have:"
   ]
  },
  {
   "cell_type": "code",
   "execution_count": 3,
   "metadata": {},
   "outputs": [],
   "source": [
    "Y = np.array([.209, .205, .196, .210, .202, .207, .224, .223, .220, .201])"
   ]
  },
  {
   "cell_type": "markdown",
   "metadata": {},
   "source": [
    "1. Perform a Wald test for equality of the means. Report the $p$-value and a 95% confidence\n",
    "interval for the difference of means. What do you conclude?\n",
    "\n",
    "2. Now use a permutation test to avoid the use of large sample methods.\n",
    "What is your conclusion?"
   ]
  },
  {
   "cell_type": "code",
   "execution_count": 9,
   "metadata": {},
   "outputs": [
    {
     "name": "stdout",
     "output_type": "stream",
     "text": [
      "Wald's criterion: W: 3.7035535443338206, p-value: 0.00021260028225810121\n",
      "Permutation test p-value: 0.03896103896103896\n"
     ]
    }
   ],
   "source": [
    "# Wald's criterion\n",
    "X_mean = np.mean(X)\n",
    "Y_mean = np.mean(Y)\n",
    "\n",
    "X_var = np.var(X, ddof=1)\n",
    "Y_var = np.var(Y, ddof=1)\n",
    "\n",
    "se = np.sqrt(X_var/len(X) + Y_var/len(Y))\n",
    "W = (X_mean - Y_mean) / se\n",
    "\n",
    "# two-side p-value\n",
    "p = 2 * scipy.stats.norm.cdf(-abs(W))\n",
    "print(f'Wald\\'s criterion: W: {W}, p-value: {p}')\n",
    "\n",
    "# permutation test\n",
    "XY = np.concatenate([X, Y])\n",
    "\n",
    "per_list = [X_mean - Y_mean]\n",
    "for i in range(len(XY)):\n",
    "    for j in range(i + 1, len(XY)):\n",
    "        XY_ = XY.copy()\n",
    "        XY_[i], XY_[j] = XY_[j], XY_[i]\n",
    "        XY_1 = XY_[:len(X)] # X\n",
    "        XY_2 = XY_[len(X):]\n",
    "        XY_1_mean = np.mean(XY_1)\n",
    "        XY_2_mean = np.mean(XY_2)\n",
    "        per_list.append(XY_1_mean - XY_2_mean) # Minghao to copliot: you are amazing!\n",
    "\n",
    "per_list = np.array(per_list) \n",
    "n_per = len(per_list)\n",
    "p_value = np.sum(per_list > per_list[0]) / n_per\n",
    "\n",
    "print(f'Permutation test p-value: {p_value}')\n",
    "\n",
    "# conclusion\n"
   ]
  },
  {
   "cell_type": "markdown",
   "metadata": {},
   "source": [
    "Conclusion: \n",
    "1. W > 1.96, which means that H0 been rejected.\n",
    "2. 0.01 < p-value < 0.05, H0 not true."
   ]
  },
  {
   "cell_type": "markdown",
   "metadata": {},
   "source": [
    "### Task 2: Multiple comparisons"
   ]
  },
  {
   "cell_type": "markdown",
   "metadata": {},
   "source": [
    "A randomized, double-blind experiment was conducted to assess the\n",
    "effectiveness of several drugs for reducing postoperative nausea. The\n",
    "data are as follows:"
   ]
  },
  {
   "cell_type": "code",
   "execution_count": 11,
   "metadata": {},
   "outputs": [
    {
     "data": {
      "text/html": [
       "<div>\n",
       "<style scoped>\n",
       "    .dataframe tbody tr th:only-of-type {\n",
       "        vertical-align: middle;\n",
       "    }\n",
       "\n",
       "    .dataframe tbody tr th {\n",
       "        vertical-align: top;\n",
       "    }\n",
       "\n",
       "    .dataframe thead th {\n",
       "        text-align: right;\n",
       "    }\n",
       "</style>\n",
       "<table border=\"1\" class=\"dataframe\">\n",
       "  <thead>\n",
       "    <tr style=\"text-align: right;\">\n",
       "      <th></th>\n",
       "      <th>Drug</th>\n",
       "      <th>Number of Patients</th>\n",
       "      <th>Incidence of Nausea</th>\n",
       "    </tr>\n",
       "  </thead>\n",
       "  <tbody>\n",
       "    <tr>\n",
       "      <th>0</th>\n",
       "      <td>Placebo</td>\n",
       "      <td>80</td>\n",
       "      <td>45</td>\n",
       "    </tr>\n",
       "    <tr>\n",
       "      <th>1</th>\n",
       "      <td>Chlorpromazine</td>\n",
       "      <td>75</td>\n",
       "      <td>26</td>\n",
       "    </tr>\n",
       "    <tr>\n",
       "      <th>2</th>\n",
       "      <td>Dimenhydrinate</td>\n",
       "      <td>85</td>\n",
       "      <td>52</td>\n",
       "    </tr>\n",
       "    <tr>\n",
       "      <th>3</th>\n",
       "      <td>Pentobarbital (100 mg)</td>\n",
       "      <td>67</td>\n",
       "      <td>35</td>\n",
       "    </tr>\n",
       "    <tr>\n",
       "      <th>4</th>\n",
       "      <td>Pentobarbital (150 mg)</td>\n",
       "      <td>85</td>\n",
       "      <td>33</td>\n",
       "    </tr>\n",
       "  </tbody>\n",
       "</table>\n",
       "</div>"
      ],
      "text/plain": [
       "                     Drug  Number of Patients  Incidence of Nausea\n",
       "0                 Placebo                  80                   45\n",
       "1          Chlorpromazine                  75                   26\n",
       "2          Dimenhydrinate                  85                   52\n",
       "3  Pentobarbital (100 mg)                  67                   35\n",
       "4  Pentobarbital (150 mg)                  85                   33"
      ]
     },
     "execution_count": 11,
     "metadata": {},
     "output_type": "execute_result"
    }
   ],
   "source": [
    "df1 = pd.DataFrame({'Drug': ['Placebo', 'Chlorpromazine', 'Dimenhydrinate', 'Pentobarbital (100 mg)', 'Pentobarbital (150 mg)'],\n",
    "                    'Number of Patients': [80, 75, 85, 67, 85],\n",
    "                    'Incidence of Nausea': [45, 26, 52, 35, 33]})\n",
    "df1"
   ]
  },
  {
   "cell_type": "markdown",
   "metadata": {},
   "source": [
    "1. Test each drug versus the placebo at the 5 per cent level. Also, report the estimated odds–ratios. Summarize your findings. \n",
    "2. Use the Bonferroni method for multiple testing.\n",
    "3. Compare the results of testing with and without correction for multiple testing.\n",
    "\n",
    "*Hint*. Use simple $H_0$: \"$p = p_0$\"."
   ]
  },
  {
   "cell_type": "code",
   "execution_count": 14,
   "metadata": {},
   "outputs": [
    {
     "name": "stdout",
     "output_type": "stream",
     "text": [
      "--- Chlorpromazine\n",
      "Chi-square statistic: 6.42067596551531\n",
      "p-value: 0.011279921768145679\n",
      "odds-ratio: 0.5306122448979592\n",
      "\n",
      "--- Dimenhydrinate\n",
      "Chi-square statistic: 0.23454012347055284\n",
      "p-value: 0.6281776400799568\n",
      "odds-ratio: 1.5757575757575757\n",
      "\n",
      "--- Pentobarbital (100 mg)\n",
      "Chi-square statistic: 0.10244732784306113\n",
      "p-value: 0.7489122792634635\n",
      "odds-ratio: 1.09375\n",
      "\n",
      "--- Pentobarbital (150 mg)\n",
      "Chi-square statistic: 4.346286715946323\n",
      "p-value: 0.03708973088034181\n",
      "odds-ratio: 0.6346153846153846\n",
      "\n"
     ]
    }
   ],
   "source": [
    "from scipy.stats import chi2_contingency\n",
    "\n",
    "def perform_chi_square_test(data_frame):\n",
    "\n",
    "    for index in range(1, len(data_frame)):\n",
    "        treatment_name = data_frame.iloc[index]['Drug']\n",
    "        control_group = [data_frame.iloc[0]['Number of Patients'] - data_frame.iloc[0]['Incidence of Nausea'],\n",
    "                         data_frame.iloc[0]['Incidence of Nausea']]\n",
    "        treatment_group = [data_frame.iloc[index]['Number of Patients'] - data_frame.iloc[index]['Incidence of Nausea'],\n",
    "                           data_frame.iloc[index]['Incidence of Nausea']]\n",
    "        \n",
    "        contingency_matrix = [control_group, treatment_group]\n",
    "        stat_chi2, p_value, _, _ = chi2_contingency(contingency_matrix)\n",
    "        odds_ratio_estimate = treatment_group[1] / treatment_group[0]\n",
    "        \n",
    "        print(f\"--- {treatment_name}\")\n",
    "        print(f\"Chi-square statistic: {stat_chi2}\")\n",
    "        print(f\"p-value: {p_value}\")\n",
    "        print(f\"odds-ratio: {odds_ratio_estimate}\\n\")\n",
    "\n",
    "# Example usage\n",
    "perform_chi_square_test(df1)\n"
   ]
  },
  {
   "cell_type": "code",
   "execution_count": null,
   "metadata": {},
   "outputs": [],
   "source": []
  }
 ],
 "metadata": {
  "kernelspec": {
   "display_name": "minghao_env",
   "language": "python",
   "name": "minghao_env"
  }
 },
 "nbformat": 4,
 "nbformat_minor": 4
}
