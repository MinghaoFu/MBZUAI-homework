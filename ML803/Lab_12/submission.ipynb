{
 "cells": [
  {
   "cell_type": "code",
   "execution_count": 2,
   "metadata": {},
   "outputs": [
    {
     "data": {
      "text/plain": [
       "['galton.dta', 'galton-stata11.dta', 'readme.txt']"
      ]
     },
     "execution_count": 2,
     "metadata": {},
     "output_type": "execute_result"
    }
   ],
   "source": [
    "from zipfile import ZipFile\n",
    "import os\n",
    "\n",
    "# Define the path to the zip file and the extraction directory\n",
    "zip_file_path = './dataverse_files.zip'\n",
    "extraction_dir = './dataverse_files/'\n",
    "\n",
    "# Create a directory to extract to\n",
    "os.makedirs(extraction_dir, exist_ok=True)\n",
    "\n",
    "# Extract the zip file\n",
    "with ZipFile(zip_file_path, 'r') as zip_ref:\n",
    "    zip_ref.extractall(extraction_dir)\n",
    "\n",
    "# List the contents of the directory to see what was extracted\n",
    "extracted_files = os.listdir(extraction_dir)\n",
    "extracted_files\n"
   ]
  },
  {
   "cell_type": "code",
   "execution_count": 3,
   "metadata": {},
   "outputs": [
    {
     "data": {
      "text/html": [
       "<div>\n",
       "<style scoped>\n",
       "    .dataframe tbody tr th:only-of-type {\n",
       "        vertical-align: middle;\n",
       "    }\n",
       "\n",
       "    .dataframe tbody tr th {\n",
       "        vertical-align: top;\n",
       "    }\n",
       "\n",
       "    .dataframe thead th {\n",
       "        text-align: right;\n",
       "    }\n",
       "</style>\n",
       "<table border=\"1\" class=\"dataframe\">\n",
       "  <thead>\n",
       "    <tr style=\"text-align: right;\">\n",
       "      <th></th>\n",
       "      <th>family</th>\n",
       "      <th>father</th>\n",
       "      <th>mother</th>\n",
       "      <th>gender</th>\n",
       "      <th>height</th>\n",
       "      <th>kids</th>\n",
       "      <th>male</th>\n",
       "      <th>female</th>\n",
       "    </tr>\n",
       "  </thead>\n",
       "  <tbody>\n",
       "    <tr>\n",
       "      <th>0</th>\n",
       "      <td>1</td>\n",
       "      <td>78.5</td>\n",
       "      <td>67.0</td>\n",
       "      <td>M</td>\n",
       "      <td>73.199997</td>\n",
       "      <td>4</td>\n",
       "      <td>1.0</td>\n",
       "      <td>0.0</td>\n",
       "    </tr>\n",
       "    <tr>\n",
       "      <th>1</th>\n",
       "      <td>1</td>\n",
       "      <td>78.5</td>\n",
       "      <td>67.0</td>\n",
       "      <td>F</td>\n",
       "      <td>69.199997</td>\n",
       "      <td>4</td>\n",
       "      <td>0.0</td>\n",
       "      <td>1.0</td>\n",
       "    </tr>\n",
       "    <tr>\n",
       "      <th>2</th>\n",
       "      <td>1</td>\n",
       "      <td>78.5</td>\n",
       "      <td>67.0</td>\n",
       "      <td>F</td>\n",
       "      <td>69.000000</td>\n",
       "      <td>4</td>\n",
       "      <td>0.0</td>\n",
       "      <td>1.0</td>\n",
       "    </tr>\n",
       "    <tr>\n",
       "      <th>3</th>\n",
       "      <td>1</td>\n",
       "      <td>78.5</td>\n",
       "      <td>67.0</td>\n",
       "      <td>F</td>\n",
       "      <td>69.000000</td>\n",
       "      <td>4</td>\n",
       "      <td>0.0</td>\n",
       "      <td>1.0</td>\n",
       "    </tr>\n",
       "    <tr>\n",
       "      <th>4</th>\n",
       "      <td>2</td>\n",
       "      <td>75.5</td>\n",
       "      <td>66.5</td>\n",
       "      <td>M</td>\n",
       "      <td>73.500000</td>\n",
       "      <td>4</td>\n",
       "      <td>1.0</td>\n",
       "      <td>0.0</td>\n",
       "    </tr>\n",
       "    <tr>\n",
       "      <th>...</th>\n",
       "      <td>...</td>\n",
       "      <td>...</td>\n",
       "      <td>...</td>\n",
       "      <td>...</td>\n",
       "      <td>...</td>\n",
       "      <td>...</td>\n",
       "      <td>...</td>\n",
       "      <td>...</td>\n",
       "    </tr>\n",
       "    <tr>\n",
       "      <th>893</th>\n",
       "      <td>136A</td>\n",
       "      <td>68.5</td>\n",
       "      <td>65.0</td>\n",
       "      <td>M</td>\n",
       "      <td>68.500000</td>\n",
       "      <td>8</td>\n",
       "      <td>1.0</td>\n",
       "      <td>0.0</td>\n",
       "    </tr>\n",
       "    <tr>\n",
       "      <th>894</th>\n",
       "      <td>136A</td>\n",
       "      <td>68.5</td>\n",
       "      <td>65.0</td>\n",
       "      <td>M</td>\n",
       "      <td>67.699997</td>\n",
       "      <td>8</td>\n",
       "      <td>1.0</td>\n",
       "      <td>0.0</td>\n",
       "    </tr>\n",
       "    <tr>\n",
       "      <th>895</th>\n",
       "      <td>136A</td>\n",
       "      <td>68.5</td>\n",
       "      <td>65.0</td>\n",
       "      <td>F</td>\n",
       "      <td>64.000000</td>\n",
       "      <td>8</td>\n",
       "      <td>0.0</td>\n",
       "      <td>1.0</td>\n",
       "    </tr>\n",
       "    <tr>\n",
       "      <th>896</th>\n",
       "      <td>136A</td>\n",
       "      <td>68.5</td>\n",
       "      <td>65.0</td>\n",
       "      <td>F</td>\n",
       "      <td>63.500000</td>\n",
       "      <td>8</td>\n",
       "      <td>0.0</td>\n",
       "      <td>1.0</td>\n",
       "    </tr>\n",
       "    <tr>\n",
       "      <th>897</th>\n",
       "      <td>136A</td>\n",
       "      <td>68.5</td>\n",
       "      <td>65.0</td>\n",
       "      <td>F</td>\n",
       "      <td>63.000000</td>\n",
       "      <td>8</td>\n",
       "      <td>0.0</td>\n",
       "      <td>1.0</td>\n",
       "    </tr>\n",
       "  </tbody>\n",
       "</table>\n",
       "<p>898 rows × 8 columns</p>\n",
       "</div>"
      ],
      "text/plain": [
       "    family  father  mother gender     height  kids  male  female\n",
       "0        1    78.5    67.0      M  73.199997     4   1.0     0.0\n",
       "1        1    78.5    67.0      F  69.199997     4   0.0     1.0\n",
       "2        1    78.5    67.0      F  69.000000     4   0.0     1.0\n",
       "3        1    78.5    67.0      F  69.000000     4   0.0     1.0\n",
       "4        2    75.5    66.5      M  73.500000     4   1.0     0.0\n",
       "..     ...     ...     ...    ...        ...   ...   ...     ...\n",
       "893   136A    68.5    65.0      M  68.500000     8   1.0     0.0\n",
       "894   136A    68.5    65.0      M  67.699997     8   1.0     0.0\n",
       "895   136A    68.5    65.0      F  64.000000     8   0.0     1.0\n",
       "896   136A    68.5    65.0      F  63.500000     8   0.0     1.0\n",
       "897   136A    68.5    65.0      F  63.000000     8   0.0     1.0\n",
       "\n",
       "[898 rows x 8 columns]"
      ]
     },
     "execution_count": 3,
     "metadata": {},
     "output_type": "execute_result"
    }
   ],
   "source": [
    "import pandas as pd\n",
    "\n",
    "# Load the dataset from the .dta file\n",
    "df_path = extraction_dir + 'galton.dta'\n",
    "df = pd.read_stata(df_path)\n",
    "\n",
    "# Display the first few rows of the DataFrame to understand its structure\n",
    "df"
   ]
  },
  {
   "cell_type": "code",
   "execution_count": 4,
   "metadata": {},
   "outputs": [],
   "source": [
    "from sklearn.linear_model import LinearRegression\n",
    "\n",
    "# Prepare the data\n",
    "df['Gender'] = df['male'].apply(lambda x: 0 if x == 1 else 1)  # Convert 'male' column to 'Gender' with 0 for male, 1 for female\n",
    "df.rename(columns={'height': 'Height'}, inplace=True)  # Ensure column names are consistent with the task description\n",
    "\n",
    "# Separate the dataset by gender\n",
    "df_male = df[df['Gender'] == 0]\n",
    "df_female = df[df['Gender'] == 1]"
   ]
  },
  {
   "cell_type": "code",
   "execution_count": 5,
   "metadata": {},
   "outputs": [
    {
     "data": {
      "text/plain": [
       "(array([0.4117501 , 0.33355007], dtype=float32),\n",
       " 19.399895,\n",
       " array([0.40071717, 0.30745602], dtype=float32),\n",
       " 16.610233)"
      ]
     },
     "execution_count": 5,
     "metadata": {},
     "output_type": "execute_result"
    }
   ],
   "source": [
    "\n",
    "# Task 1\n",
    "# Fit linear regression models\n",
    "lr_male = LinearRegression().fit(df_male[['father', 'mother']], df_male['Height'])\n",
    "lr_female = LinearRegression().fit(df_female[['father', 'mother']], df_female['Height'])\n",
    "\n",
    "# Output the coefficients and intercepts for each model\n",
    "male_coefficients, male_intercept = lr_male.coef_, lr_male.intercept_\n",
    "female_coefficients, female_intercept = lr_female.coef_, lr_female.intercept_\n",
    "\n",
    "male_coefficients, male_intercept, female_coefficients, female_intercept\n"
   ]
  },
  {
   "cell_type": "code",
   "execution_count": 6,
   "metadata": {},
   "outputs": [
    {
     "name": "stderr",
     "output_type": "stream",
     "text": [
      "/home/minghao.fu/.conda/envs/minghao_env/lib/python3.12/site-packages/sklearn/base.py:493: UserWarning: X does not have valid feature names, but LinearRegression was fitted with feature names\n",
      "  warnings.warn(\n",
      "/home/minghao.fu/.conda/envs/minghao_env/lib/python3.12/site-packages/sklearn/base.py:493: UserWarning: X does not have valid feature names, but LinearRegression was fitted with feature names\n",
      "  warnings.warn(\n"
     ]
    },
    {
     "data": {
      "text/plain": [
       "(74.07013, 73.37430739402771)"
      ]
     },
     "execution_count": 6,
     "metadata": {},
     "output_type": "execute_result"
    }
   ],
   "source": [
    "# Task 2: Implementation\n",
    "def counterfactual_inference(gender, f_prime, m_prime):\n",
    "    return gender.predict([[f_prime, m_prime]])[0]\n",
    "\n",
    "# Select the first family in dataset\n",
    "f_prime, m_prime, height, gender = df.loc[0]['father'], df.loc[0]['mother'], df.loc[0]['Height'], df.loc[0]\n",
    "h_prime = counterfactual_inference(lr_male, f_prime, m_prime)\n",
    "h_cf = counterfactual_inference(lr_male, 76, 68)\n",
    "h_prime, h_cf\n"
   ]
  },
  {
   "cell_type": "code",
   "execution_count": 7,
   "metadata": {},
   "outputs": [
    {
     "name": "stdout",
     "output_type": "stream",
     "text": [
      "family            1\n",
      "father         78.5\n",
      "mother         67.0\n",
      "gender            M\n",
      "Height    73.199997\n",
      "kids              4\n",
      "male            1.0\n",
      "female          0.0\n",
      "Gender            0\n",
      "Name: 0, dtype: object \n",
      " family     134\n",
      "father    68.0\n",
      "mother    65.0\n",
      "gender       M\n",
      "Height    72.0\n",
      "kids         4\n",
      "male       1.0\n",
      "female     0.0\n",
      "Gender       0\n",
      "Name: 577, dtype: object\n",
      "69.15785637497902 69.15785637497902\n",
      "Potential outcome is same.\n"
     ]
    },
    {
     "name": "stderr",
     "output_type": "stream",
     "text": [
      "/home/minghao.fu/.conda/envs/minghao_env/lib/python3.12/site-packages/sklearn/base.py:493: UserWarning: X does not have valid feature names, but LinearRegression was fitted with feature names\n",
      "  warnings.warn(\n",
      "/home/minghao.fu/.conda/envs/minghao_env/lib/python3.12/site-packages/sklearn/base.py:493: UserWarning: X does not have valid feature names, but LinearRegression was fitted with feature names\n",
      "  warnings.warn(\n"
     ]
    }
   ],
   "source": [
    "# Task 3 (1)\n",
    "print(df.loc[0], '\\n', df.loc[577])\n",
    "h_cf1 = counterfactual_inference(lr_male, 69, 64) # male is 0\n",
    "h_cf2 = counterfactual_inference(lr_male, 69, 64) # male is 0\n",
    "print(f'{h_cf1} {h_cf2}')\n",
    "print(f'Potential outcome is {'same' if h_cf1 == h_cf2 else 'different'}.')"
   ]
  },
  {
   "cell_type": "code",
   "execution_count": 8,
   "metadata": {},
   "outputs": [
    {
     "name": "stdout",
     "output_type": "stream",
     "text": [
      "Height prediction: 69.15785637497902\n"
     ]
    },
    {
     "name": "stderr",
     "output_type": "stream",
     "text": [
      "/home/minghao.fu/.conda/envs/minghao_env/lib/python3.12/site-packages/sklearn/base.py:493: UserWarning: X does not have valid feature names, but LinearRegression was fitted with feature names\n",
      "  warnings.warn(\n",
      "/home/minghao.fu/.conda/envs/minghao_env/lib/python3.12/site-packages/sklearn/base.py:493: UserWarning: X does not have valid feature names, but LinearRegression was fitted with feature names\n",
      "  warnings.warn(\n"
     ]
    }
   ],
   "source": [
    "# Task 3 (2)\n",
    "h_cf1 = counterfactual_inference(lr_male, 69, 64) # male is 0\n",
    "h_cf2 = counterfactual_inference(lr_male, 69, 64) # male is 0\n",
    "print(f'Height prediction: {h_cf2}')"
   ]
  },
  {
   "cell_type": "markdown",
   "metadata": {},
   "source": [
    "Prediction is same as potential outcome. Because of modularity, 'gender', 'father', and 'mother' are the only causes of 'height', given 'gender', counterfactual outcome (do operation) of 'father' and 'mother' can be transformed to the prediction (or posterior).\n",
    "\n",
    "$P(X|do(Y=y)) = P(X|Y=y)$"
   ]
  }
 ],
 "metadata": {
  "kernelspec": {
   "display_name": "Python 3",
   "language": "python",
   "name": "python3"
  },
  "language_info": {
   "codemirror_mode": {
    "name": "ipython",
    "version": 3
   },
   "file_extension": ".py",
   "mimetype": "text/x-python",
   "name": "python",
   "nbconvert_exporter": "python",
   "pygments_lexer": "ipython3",
   "version": "3.12.1"
  }
 },
 "nbformat": 4,
 "nbformat_minor": 2
}
