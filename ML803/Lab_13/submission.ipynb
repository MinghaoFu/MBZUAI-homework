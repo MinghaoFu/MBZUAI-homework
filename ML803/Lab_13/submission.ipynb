{
 "cells": [
  {
   "cell_type": "code",
   "execution_count": 1,
   "metadata": {},
   "outputs": [],
   "source": [
    "# Task 1\n",
    "import numpy as np\n",
    "from sklearn.decomposition import FastICA\n",
    "\n",
    "def perform_ica(X, n_components):\n",
    "    ica = FastICA(n_components=n_components)\n",
    "    S_ = ica.fit_transform(X)  # Reconstruct signals\n",
    "    A_ = ica.mixing_  # Get estimated mixing matrix\n",
    "    return S_, A_\n"
   ]
  },
  {
   "cell_type": "code",
   "execution_count": 2,
   "metadata": {},
   "outputs": [],
   "source": [
    "# Task 2\n",
    "def estimate_lingam(W, threshold=0.1):\n",
    "    W_sparse = np.where(np.abs(W) < threshold, 0, W)\n",
    "    B_est = np.linalg.inv(W_sparse)  # Estimating B as the inverse of sparse W\n",
    "    return B_est"
   ]
  },
  {
   "cell_type": "code",
   "execution_count": 3,
   "metadata": {},
   "outputs": [],
   "source": [
    "# Task 3\n",
    "def generate_data(B, n_samples=1000):\n",
    "    n = B.shape[0]\n",
    "    E = np.random.uniform(-1, 1, (n_samples, n))\n",
    "    X = np.zeros_like(E)\n",
    "    for i in range(n_samples):\n",
    "        X[i, :] = np.linalg.solve(np.eye(n) - B, E[i, :])\n",
    "    return X\n",
    "\n",
    "# Strictly lower triangular B matrix for simulation\n",
    "B_true = np.tril(np.random.uniform(-1, 1, (4, 4)), -1)\n",
    "X = generate_data(B_true)"
   ]
  },
  {
   "cell_type": "code",
   "execution_count": 4,
   "metadata": {},
   "outputs": [
    {
     "name": "stdout",
     "output_type": "stream",
     "text": [
      "Estimated B matrix:\n",
      " [[-0.         -0.5757595  -0.         -0.        ]\n",
      " [ 0.59902853 -0.24759146  0.          0.        ]\n",
      " [ 0.41526836 -0.41061637 -0.         -0.58536489]\n",
      " [ 0.07595626 -0.30118101 -0.57604845  0.55584645]]\n",
      "True B matrix:\n",
      " [[ 0.          0.          0.          0.        ]\n",
      " [ 0.4126085   0.          0.          0.        ]\n",
      " [ 0.43800415  0.69491042  0.          0.        ]\n",
      " [ 0.84950708  0.85054274 -0.98028084  0.        ]]\n"
     ]
    }
   ],
   "source": [
    "# Task 4\n",
    "# Step 1: Perform ICA\n",
    "S_, A_ = perform_ica(X, n_components=4)\n",
    "\n",
    "# Step 2: Estimate LiNGAM model\n",
    "W_ = np.linalg.pinv(A_)  # Compute the pseudo-inverse of mixing matrix A\n",
    "B_est = estimate_lingam(W_)\n",
    "\n",
    "# Verify if B_est is close to B_true\n",
    "print(\"Estimated B matrix:\\n\", B_est)\n",
    "print(\"True B matrix:\\n\", B_true)\n"
   ]
  },
  {
   "cell_type": "code",
   "execution_count": 5,
   "metadata": {},
   "outputs": [],
   "source": [
    "# Task 5\n",
    "import pandas as pd\n",
    "import numpy as np\n",
    "from sklearn.decomposition import FastICA\n",
    "\n",
    "# Load the data\n",
    "data = pd.read_csv('./Galton_processed.txt', delimiter='\\t')\n",
    "\n",
    "# Select the relevant columns\n",
    "data = data[['father', 'mother', 'Gender', 'Height']]\n",
    "\n",
    "# Preprocess: converting 'Gender' to numeric if needed (assuming 0 for female, 1 for male)\n",
    "data['Gender'] = data['Gender'].replace({'M': 1, 'F': 0})\n"
   ]
  },
  {
   "cell_type": "code",
   "execution_count": 7,
   "metadata": {},
   "outputs": [
    {
     "name": "stdout",
     "output_type": "stream",
     "text": [
      "Estimated B matrix:\n",
      " [[-0.         -0.         -0.         -0.57571111]\n",
      " [-0.         -0.         -0.59885447 -0.24753691]\n",
      " [ 0.58532435  0.         -0.41490124 -0.41067408]\n",
      " [-0.55577038  0.57604566 -0.07618199 -0.30087739]]\n",
      "True B matrix:\n",
      " [[ 0.          0.          0.          0.        ]\n",
      " [ 0.4126085   0.          0.          0.        ]\n",
      " [ 0.43800415  0.69491042  0.          0.        ]\n",
      " [ 0.84950708  0.85054274 -0.98028084  0.        ]]\n"
     ]
    }
   ],
   "source": [
    "S_, A_ = perform_ica(X, n_components=4)\n",
    "\n",
    "# Step 2: Estimate LiNGAM model\n",
    "W_ = np.linalg.pinv(A_)  # Compute the pseudo-inverse of mixing matrix A\n",
    "B_est = estimate_lingam(W_)\n",
    "\n",
    "# Verify if B_est is close to B_true\n",
    "print(\"Estimated B matrix:\\n\", B_est)\n",
    "print(\"True B matrix:\\n\", B_true)\n"
   ]
  },
  {
   "cell_type": "code",
   "execution_count": null,
   "metadata": {},
   "outputs": [],
   "source": []
  }
 ],
 "metadata": {
  "kernelspec": {
   "display_name": "Python 3",
   "language": "python",
   "name": "python3"
  },
  "language_info": {
   "codemirror_mode": {
    "name": "ipython",
    "version": 3
   },
   "file_extension": ".py",
   "mimetype": "text/x-python",
   "name": "python",
   "nbconvert_exporter": "python",
   "pygments_lexer": "ipython3",
   "version": "3.12.1"
  }
 },
 "nbformat": 4,
 "nbformat_minor": 2
}
